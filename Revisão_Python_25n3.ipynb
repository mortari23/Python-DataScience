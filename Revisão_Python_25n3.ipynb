{
  "cells": [
    {
      "cell_type": "markdown",
      "metadata": {
        "id": "view-in-github",
        "colab_type": "text"
      },
      "source": [
        "<a href=\"https://colab.research.google.com/github/mortari23/Python-DataScience/blob/main/Revis%C3%A3o_Python_25n3.ipynb\" target=\"_parent\"><img src=\"https://colab.research.google.com/assets/colab-badge.svg\" alt=\"Open In Colab\"/></a>"
      ]
    },
    {
      "cell_type": "code",
      "execution_count": null,
      "metadata": {
        "colab": {
          "base_uri": "https://localhost:8080/"
        },
        "id": "38RlpQWIFI-2",
        "outputId": "78a86f9e-12d2-489c-a80c-3b285a620494"
      },
      "outputs": [
        {
          "name": "stdout",
          "output_type": "stream",
          "text": [
            "Me chamo Riguetto sou Soldado do exercito e moro em SÃO JOSÉ DO RIO PRETO\n"
          ]
        }
      ],
      "source": [
        "# 25/09/2025\n",
        "#Revisão da linguagem Python para anásile de dados\n",
        "\n",
        "# Crie 3 variáveis para que voce se apresente. atribua os valores\n",
        "#nas variaveis e depois os exiba em tela\n",
        "# me chamo 'Fulano', sou 'Função' e moro em 'cidade'\n",
        "nome = 'Riguetto'\n",
        "profissao = 'Soldado do exercito'\n",
        "cidade = 'SÃO JOSÉ DO RIO PRETO'\n",
        "\n",
        "print('Me chamo', nome, 'sou', profissao, 'e moro em', cidade)"
      ]
    },
    {
      "cell_type": "code",
      "execution_count": null,
      "metadata": {
        "colab": {
          "base_uri": "https://localhost:8080/"
        },
        "id": "4XC6HMpdHxUe",
        "outputId": "7ab46bf2-f093-4dc6-a747-268d543b8223"
      },
      "outputs": [
        {
          "name": "stdout",
          "output_type": "stream",
          "text": [
            "me chamoRiguetto sou Soldado do exercito, e moro em SÃO JOSÉ DO RIO PRETO \n"
          ]
        }
      ],
      "source": [
        "# Uso de Format-String\n",
        "print(f'me chamo{nome} sou {profissao}, e moro em {cidade} ')"
      ]
    },
    {
      "cell_type": "code",
      "execution_count": null,
      "metadata": {
        "colab": {
          "base_uri": "https://localhost:8080/"
        },
        "id": "zU16jvzDJtWM",
        "outputId": "f3bc8e03-b398-4190-99e7-2d66e8b441a8"
      },
      "outputs": [
        {
          "name": "stdout",
          "output_type": "stream",
          "text": [
            "Informe sua Idade : 20\n",
            "voce é maior de idade\n"
          ]
        }
      ],
      "source": [
        "#Crie um programa que receba a idade de uma pessoa e mostre em tela\n",
        "#se ela é maior ou menor\n",
        "idade = int (input('Informe sua Idade : '))\n",
        "if idade >= 18 :\n",
        "\n",
        "    print(f'voce tem {idade} anos e é maior de idade!')\n",
        "else:\n",
        "    print(f'voce tem {idade} anos e é menor de idade!')"
      ]
    },
    {
      "cell_type": "code",
      "execution_count": null,
      "metadata": {
        "colab": {
          "base_uri": "https://localhost:8080/"
        },
        "id": "ZJ7Ii_VOSD-L",
        "outputId": "51907043-3df7-42b6-ff5a-429bd5a70c66"
      },
      "outputs": [
        {
          "name": "stdout",
          "output_type": "stream",
          "text": [
            "Digite o nome da 1º pessoa : 10\n",
            "Digite a altura do (a) 10 : 10\n",
            "Digite o nome da 2º pessoa : 10\n",
            "digite a altura do (a) 1010\n",
            "10 e 10 tem a mesma altura! 10.0\n"
          ]
        }
      ],
      "source": [
        "#Crie um programa que receba dois nomes e duas alturas.\n",
        "#mostre em tela qual das pessoas é a mais alta ou possuem a mesma altura\n",
        "nome1 = input(\"Digite o nome da 1º pessoa : \")\n",
        "altura1 = float(input(f\"Digite a altura do (a) {nome1} : \"))\n",
        "nome2 = input(\"Digite o nome da 2º pessoa : \")\n",
        "altura2 = float(input(f\"digite a altura do (a) {nome2}\"))\n",
        "if altura1 == altura2:\n",
        "    print(f\"{nome1} e {nome2} tem a mesma altura! {altura1}\")\n",
        "elif altura1 > altura2:\n",
        "    print(f\"{nome1} é mais alta que {nome2}!\")\n",
        "else:\n",
        "    print(f\"a {nome2} é mais alto(a) do que {nome1}\")"
      ]
    },
    {
      "cell_type": "code",
      "execution_count": null,
      "metadata": {
        "colab": {
          "base_uri": "https://localhost:8080/"
        },
        "id": "cJvbSTTMWGDb",
        "outputId": "b0cb313d-202a-42a6-d467-9aea4e3818a3"
      },
      "outputs": [
        {
          "name": "stdout",
          "output_type": "stream",
          "text": [
            "Digite sua idade: 50\n",
            "Digite seu salario1: 2500\n",
            "Valor reajustado é de 2687.5\n",
            "Novo salário: 2687.5 | Taxa de  7.5%\n",
            "Diferença bruta: R$ 187.5\n"
          ]
        }
      ],
      "source": [
        "# CRIE Um programa que receba a idade e o salário de uma pessoa.\n",
        "# SE a idade for maior ou igual a 50 e salário menor que 3500, reajuste o salário em 7.5%\n",
        "# Senão reajuste em 5%\n",
        "#Mostre salários reajus e a diferença bruta do reajuste\n",
        "\n",
        "\n",
        "idade = int(input(\"Digite sua idade: \"))\n",
        "salario = float(input(\"Digite seu salario1: \"))\n",
        "if idade >= 50 and salario < 3500:\n",
        "    salario_reajustado = salario * 1.075\n",
        "    tx =7.5\n",
        "    print(f\"Valor reajustado é de {salario_reajustado}\")\n",
        "else:\n",
        "    tx= 5\n",
        "    salario_reajustado = salario * 1.05\n",
        "print(f\"Novo salário: {salario_reajustado} | Taxa de  {tx}%\")\n",
        "print(f\"Diferença bruta: R$ {salario_reajustado - salario}\")"
      ]
    },
    {
      "cell_type": "code",
      "execution_count": null,
      "metadata": {
        "colab": {
          "base_uri": "https://localhost:8080/"
        },
        "id": "QvJ5A2tYZZ-q",
        "outputId": "381124a7-7b82-4e3e-fc77-01263a1da2bd"
      },
      "outputs": [
        {
          "name": "stdout",
          "output_type": "stream",
          "text": [
            "Informe sua Idade: 70\n",
            "Digite seu Peso: 50\n",
            "Infelizmente voce nao pode doar sangue\n"
          ]
        }
      ],
      "source": [
        "#Crie um programa que verifique se uma pessoa pode ou não doar sangue\n",
        "#Sera digitada a idade e o peso da pessoa.\n",
        "#regra: Somente pessoas com idade entre 16 e 69 e peso a partir de 50kg\n",
        "#podem doar\n",
        "\n",
        "idade = int(input(\"Informe sua Idade: \"))\n",
        "peso = float(input(\"Digite seu Peso: \"))\n",
        "if idade >=16 and idade <=69 and peso >= 50:\n",
        "    print(\"Voce pode doar\")\n",
        "else:\n",
        "    print(\"Infelizmente voce nao pode doar sangue\")"
      ]
    },
    {
      "cell_type": "code",
      "execution_count": null,
      "metadata": {
        "id": "9s7vVV4ee4ey"
      },
      "outputs": [],
      "source": [
        "idade = int(input(\"Informe sua Idade: \"))\n",
        "if idade < 16 or idade > 69:\n",
        "    print(f\"voce noa pode doar sangue! idade não permitida\")\n",
        "else:\n",
        "    peso = float(input(\"Digite seu Peso: \"))\n",
        "if peso >= 50:\n",
        "    print(\"Voce pode doar\")\n",
        "else:\n",
        "    print(\"Infelizmente voce nao pode doar sangue\")"
      ]
    },
    {
      "cell_type": "code",
      "execution_count": null,
      "metadata": {
        "colab": {
          "base_uri": "https://localhost:8080/"
        },
        "id": "GaMvTdiQfhh6",
        "outputId": "6f0da775-db8b-4db2-ecaf-374c7dda8ee1"
      },
      "outputs": [
        {
          "name": "stdout",
          "output_type": "stream",
          "text": [
            "Boa noite SENAI!\n",
            "Boa noite SENAI!\n",
            "Boa noite SENAI!\n",
            "Boa noite SENAI!\n",
            "Boa noite SENAI!\n",
            "Boa noite SENAI!\n",
            "Boa noite SENAI!\n",
            "Boa noite SENAI!\n",
            "Boa noite SENAI!\n",
            "Boa noite SENAI!\n"
          ]
        }
      ],
      "source": [
        "#29/09/2025\n",
        "# Revisão : Estruturas de repetição em Python\n",
        "\n",
        "#Estrutura 'while'\n",
        "\n",
        "cont = 1 #Variável Contadora\n",
        "while cont <= 10:\n",
        "    print(\"Boa noite SENAI!\")\n",
        "    # Incrementando contador\n",
        "    cont = cont + 1"
      ]
    },
    {
      "cell_type": "code",
      "execution_count": null,
      "metadata": {
        "colab": {
          "base_uri": "https://localhost:8080/"
        },
        "id": "AF5jbq2ioFqk",
        "outputId": "dc4498df-0d4c-4bdc-b203-67326afdabff"
      },
      "outputs": [
        {
          "name": "stdout",
          "output_type": "stream",
          "text": [
            " Repetição 1: Boa noite SENAI!\n",
            " Repetição 2: Boa noite SENAI!\n",
            " Repetição 3: Boa noite SENAI!\n",
            " Repetição 4: Boa noite SENAI!\n",
            " Repetição 5: Boa noite SENAI!\n",
            " Repetição 6: Boa noite SENAI!\n",
            " Repetição 7: Boa noite SENAI!\n",
            " Repetição 8: Boa noite SENAI!\n",
            " Repetição 9: Boa noite SENAI!\n",
            " Repetição 10: Boa noite SENAI!\n"
          ]
        }
      ],
      "source": [
        "#Faça o mesmo codigo acima porém inserindo o número da repetição\n",
        "# EX: repetição 1: Boa noite senai!\n",
        "cont = 1 #Variável Contadora\n",
        "while cont <= 10:\n",
        "    print(f\" Repetição {cont}: Boa noite SENAI!\")\n",
        "    # Incrementando contador\n",
        "    cont = cont + 1"
      ]
    },
    {
      "cell_type": "code",
      "execution_count": null,
      "metadata": {
        "colab": {
          "base_uri": "https://localhost:8080/"
        },
        "id": "kNPJlLAjo2bl",
        "outputId": "5d97381a-4db4-48bc-fe05-6b914fd763aa"
      },
      "outputs": [
        {
          "name": "stdout",
          "output_type": "stream",
          "text": [
            "Digite um Numero para saber sua tabuada : 7\n",
            "\n",
            "*** Tabuada do numero 7 *** \n",
            "\n",
            "7  x  0 = 0\n",
            "7  x  1 = 7\n",
            "7  x  2 = 14\n",
            "7  x  3 = 21\n",
            "7  x  4 = 28\n",
            "7  x  5 = 35\n",
            "7  x  6 = 42\n",
            "7  x  7 = 49\n",
            "7  x  8 = 56\n",
            "7  x  9 = 63\n",
            "7  x  10 = 70\n",
            "\n",
            "FIM de PROGRAMA!\n"
          ]
        }
      ],
      "source": [
        "# Crie um programa que receba um numero e calcule sua tabuada\n",
        "\n",
        "numero = int(input(\"Digite um Numero para saber sua tabuada : \"))\n",
        "print (f\"\\n*** Tabuada do numero {numero} *** \\n\")\n",
        "cont = 0\n",
        "\n",
        "while cont <= 10:\n",
        "    print(f\"{numero}  x  {cont} = {numero*cont}\")\n",
        "    #incrementando  contador:\n",
        "    cont = cont + 1\n",
        "print(\"\\nFIM de PROGRAMA!\")"
      ]
    },
    {
      "cell_type": "code",
      "execution_count": null,
      "metadata": {
        "id": "vuWjiqe-rngt"
      },
      "outputs": [],
      "source": [
        "#Crie um Programa que receba uma frase e quantas vezes o usuário deseja\n",
        "#repeti-la\n",
        "#EX: Entrada: Olá | Entrada 2:3\n",
        "#Saída:\n",
        "#Olá\n",
        "#Olá\n",
        "#Olá\n",
        "\n",
        "cont = 1\n",
        "frase = input(\"Digite uma frase : \")\n",
        "qtd = int(input(\"Quantas vezes voce quer que repete :\"))\n",
        "\n",
        "while cont <= qtd:\n",
        "    print(f\" {cont} : {frase}\")\n",
        "    cont += 1"
      ]
    },
    {
      "cell_type": "code",
      "execution_count": null,
      "metadata": {
        "colab": {
          "base_uri": "https://localhost:8080/"
        },
        "id": "kDXWyiuCuUBs",
        "outputId": "fa69fbcb-7323-4361-f407-b4a67b08b396"
      },
      "outputs": [
        {
          "name": "stdout",
          "output_type": "stream",
          "text": [
            "Digite uma frase : NATHAN É BRABO\n",
            "Quantas vezes voce quer que repete :10\n",
            "NATHAN É BRABO\n",
            "NATHAN É BRABO\n",
            "NATHAN É BRABO\n",
            "NATHAN É BRABO\n",
            "NATHAN É BRABO\n",
            "NATHAN É BRABO\n",
            "NATHAN É BRABO\n",
            "NATHAN É BRABO\n",
            "NATHAN É BRABO\n",
            "NATHAN É BRABO\n"
          ]
        }
      ],
      "source": [
        "\n",
        "frase = input(\"Digite uma frase : \")\n",
        "qtd = int(input(\"Quantas vezes voce quer que repete :\"))\n",
        " #Usando contagem Regressiva:\n",
        "while qtd >0:\n",
        "    print(frase)\n",
        "    qtd -=1\n",
        "    #qtd = qtd -1"
      ]
    },
    {
      "cell_type": "code",
      "execution_count": null,
      "metadata": {
        "colab": {
          "base_uri": "https://localhost:8080/"
        },
        "id": "xfr4cIzIvIFk",
        "outputId": "b3041dd1-7456-4b32-e6b6-01ce21888692"
      },
      "outputs": [
        {
          "name": "stdout",
          "output_type": "stream",
          "text": [
            "Digite um numero : 10\n",
            "1 3 5 7 9 "
          ]
        }
      ],
      "source": [
        "#Crie um programa que receba um valor numérico.\n",
        "#O programa deve imprimir toda sua sequencia... do 1 ao valor do numero, porem\n",
        "#somente os valores impares devereão ser impressos na tela.\n",
        "# Exemplo: 9\n",
        "# Saida :  1,3,5,7\n",
        "\n",
        "cont = 0\n",
        "numero = int(input(\"Digite um numero : \"))\n",
        "while cont <= numero:\n",
        "    if cont % 2:\n",
        "     print(cont, end=\" \")\n",
        "    cont += 1"
      ]
    },
    {
      "cell_type": "code",
      "execution_count": null,
      "metadata": {
        "colab": {
          "base_uri": "https://localhost:8080/"
        },
        "id": "NxMP73Qh-Byq",
        "outputId": "5ee09b30-4f00-4c9c-b301-478cabe522e5"
      },
      "outputs": [
        {
          "name": "stdout",
          "output_type": "stream",
          "text": [
            "1 2 3 4 5 6 7 8 9 10 11 12 13 14 15 16 17 18 19 20 21 22 23 24 25 26 27 28 29 30 31 32 33 34 35 36 37 38 39 40 41 42 43 44 45 46 47 48 49 50 51 52 53 54 55 56 57 58 59 60 61 62 63 64 65 66 67 68 69 70 71 72 73 74 75 76 77 78 79 80 81 82 83 84 85 86 87 88 89 90 91 92 93 94 95 96 97 98 99 100 "
          ]
        }
      ],
      "source": [
        "#Estrutura de repetição 'for';\n",
        "#Crie um programa que exiba 100 números em tela.\n",
        "#Use o comando 'for':\n",
        "\n",
        "for numero in range(1, 101):\n",
        "    print(numero, end=\" \")"
      ]
    },
    {
      "cell_type": "code",
      "execution_count": null,
      "metadata": {
        "colab": {
          "base_uri": "https://localhost:8080/"
        },
        "id": "d0qipWAp-qFi",
        "outputId": "6bc1cca8-02ce-4b34-8ce3-d2e8e4684efd"
      },
      "outputs": [
        {
          "name": "stdout",
          "output_type": "stream",
          "text": [
            "Digite um nome: vai\n",
            "V @ 1 "
          ]
        }
      ],
      "source": [
        "# Crie um programa que receba um nome e substitua suas vogais pelo que segue:\n",
        "# a = @\n",
        "#e - 3\n",
        "#i - 1\n",
        "nome = input(\"Digite um nome: \")\n",
        "# Strip() --> Remove espaçoes em braco a esquerda e a direita\n",
        "# Lower() --> Deixa todas as letras minúsculas\n",
        "nome = nome.strip().lower()\n",
        "nome = nome.replace(\"a\",\"@\").replace(\"e\",\"3\").replace(\"i\",\"1\")\\\n",
        "    .replace(\"o\",\"0\").replace(\"u\",\"v\")\n",
        "for letra in nome:\n",
        "    print(f\"{letra.upper()}\", end=\" \")"
      ]
    },
    {
      "cell_type": "code",
      "execution_count": null,
      "metadata": {
        "colab": {
          "base_uri": "https://localhost:8080/"
        },
        "id": "aaNYzZfDBPe5",
        "outputId": "005a57b9-d533-4abd-b844-9e6015f7d8d5"
      },
      "outputs": [
        {
          "name": "stdout",
          "output_type": "stream",
          "text": [
            "0 5 10 15 20 25 30 35 40 45 50 55 60 65 70 75 80 85 90 95 100 105 110 115 120 125 130 135 140 145 150 155 160 165 170 175 180 185 190 195 200 205 210 215 220 225 230 235 240 245 250 255 260 265 270 275 280 285 290 295 300 305 310 315 320 325 330 335 340 345 350 355 360 365 370 375 380 385 390 395 400 405 410 415 420 425 430 435 440 445 450 455 460 465 470 475 480 485 490 495 500 "
          ]
        }
      ],
      "source": [
        "#Mostre na tela números sequencias do 1 ao 500.\n",
        "#no entanto somente de 5 em 5.\n",
        "#ex: 5,10,15\n",
        "\n",
        "for numero in range(0,501,5):\n",
        "    if numero == 0:\n",
        "        continue #Comando 'continue' interrompe o loop e o retorna para o início\n",
        "    print(numero, end=\" \")"
      ]
    },
    {
      "cell_type": "code",
      "execution_count": null,
      "metadata": {
        "colab": {
          "base_uri": "https://localhost:8080/"
        },
        "id": "CF013-EBDnDZ",
        "outputId": "00adf7ce-d9f8-471a-9493-49e698b85451"
      },
      "outputs": [
        {
          "name": "stdout",
          "output_type": "stream",
          "text": [
            "Digite um nome de um foguete : FOGUETAO\n",
            "10\n",
            "9\n",
            "8\n",
            "7\n",
            "6\n",
            "5\n",
            "4\n",
            "3\n",
            "2\n",
            "1\n",
            "Lançamento do foguete FOGUETAO iniciado\n"
          ]
        }
      ],
      "source": [
        "#FOGUETAO\n",
        "\n",
        "from time  import sleep\n",
        "cont = 10 #Contador\n",
        "nome = input(\"Digite um nome de um foguete : \")\n",
        "while cont >0:\n",
        "    print(f\"{cont}\")\n",
        "    sleep(1) #AGUADAR 1 SEGUNDO ATRAVES DA FUNÇÃO SLEEP()\n",
        "    cont -= 1\n",
        "# Fim do LOOP WHILE\n",
        "print(f\"Lançamento do foguete {nome} iniciado\")"
      ]
    },
    {
      "cell_type": "code",
      "execution_count": null,
      "metadata": {
        "colab": {
          "base_uri": "https://localhost:8080/"
        },
        "id": "RscMznmhEfPp",
        "outputId": "c486b916-0ff3-475a-f6b6-0cfcb615df49"
      },
      "outputs": [
        {
          "name": "stdout",
          "output_type": "stream",
          "text": [
            "1000 999 998 997 996 995 994 993 992 991 990 989 988 987 986 985 984 983 982 981 980 979 978 977 976 975 974 973 972 971 970 969 968 967 966 965 964 963 962 961 960 959 958 957 956 955 954 953 952 951 950 949 948 947 946 945 944 943 942 941 940 939 938 937 936 935 934 933 932 931 930 929 928 927 926 925 924 923 922 921 920 919 918 917 916 915 914 913 912 911 910 909 908 907 906 905 904 903 902 901 900 899 898 897 896 895 894 893 892 891 890 889 888 887 886 885 884 883 882 881 880 879 878 877 876 875 874 873 872 871 870 869 868 867 866 865 864 863 862 861 860 859 858 857 856 855 854 853 852 851 850 849 848 847 846 845 844 843 842 841 840 839 838 837 836 835 834 833 832 831 830 829 828 827 826 825 824 823 822 821 820 819 818 817 816 815 814 813 812 811 810 809 808 807 806 805 804 803 802 801 800 799 798 797 796 795 794 793 792 791 790 789 788 787 786 785 784 783 782 781 780 779 778 777 776 775 774 773 772 771 770 769 768 767 766 765 764 763 762 761 760 759 758 757 756 755 754 753 752 751 750 749 748 747 746 745 744 743 742 741 740 739 738 737 736 735 734 733 732 731 730 729 728 727 726 725 724 723 722 721 720 719 718 717 716 715 714 713 712 711 710 709 708 707 706 705 704 703 702 701 700 699 698 697 696 695 694 693 692 691 690 689 688 687 686 685 684 683 682 681 680 679 678 677 676 675 674 673 672 671 670 669 668 667 666 665 664 663 662 661 660 659 658 657 656 655 654 653 652 651 650 649 648 647 646 645 644 643 642 641 640 639 638 637 636 635 634 633 632 631 630 629 628 627 626 625 624 623 622 621 620 619 618 617 616 615 614 613 612 611 610 609 608 607 606 605 604 603 602 601 600 599 598 597 596 595 594 593 592 591 590 589 588 587 586 585 584 583 582 581 580 579 578 577 576 575 574 573 572 571 570 569 568 567 566 565 564 563 562 561 560 559 558 557 556 555 554 553 552 551 550 549 548 547 546 545 544 543 542 541 540 539 538 537 536 535 534 533 532 531 530 529 528 527 526 525 524 523 522 521 520 519 518 517 516 515 514 513 512 511 510 509 508 507 506 505 504 503 502 501 500 499 498 497 496 495 494 493 492 491 490 489 488 487 486 485 484 483 482 481 480 479 478 477 476 475 474 473 472 471 470 469 468 467 466 465 464 463 462 461 460 459 458 457 456 455 454 453 452 451 450 449 448 447 446 445 444 443 442 441 440 439 438 437 436 435 434 433 432 431 430 429 428 427 426 425 424 423 422 421 420 419 418 417 416 415 414 413 412 411 410 409 408 407 406 405 404 403 402 401 400 399 398 397 396 395 394 393 392 391 390 389 388 387 386 385 384 383 382 381 380 379 378 377 376 375 374 373 372 371 370 369 368 367 366 365 364 363 362 361 360 359 358 357 356 355 354 353 352 351 350 349 348 347 346 345 344 343 342 341 340 339 338 337 336 335 334 333 332 331 330 329 328 327 326 325 324 323 322 321 320 319 318 317 316 315 314 313 312 311 310 309 308 307 306 305 304 303 302 301 300 299 298 297 296 295 294 293 292 291 290 289 288 287 286 285 284 283 282 281 280 279 278 277 276 275 274 273 272 271 270 269 268 267 266 265 264 263 262 261 260 259 258 257 256 255 254 253 252 251 250 249 248 247 246 245 244 243 242 241 240 239 238 237 236 235 234 233 232 231 230 229 228 227 226 225 224 223 222 221 220 219 218 217 216 215 214 213 212 211 210 209 208 207 206 205 204 203 202 201 200 199 198 197 196 195 194 193 192 191 190 189 188 187 186 185 184 183 182 181 180 179 178 177 176 175 174 173 172 171 170 169 168 167 166 165 164 163 162 161 160 159 158 157 156 155 154 153 152 151 150 149 148 147 146 145 144 143 142 141 140 139 138 137 136 135 134 133 132 131 130 129 128 127 126 125 124 123 122 121 120 119 118 117 116 115 114 113 112 111 110 109 108 107 106 105 104 103 102 101 100 99 98 97 96 95 94 93 92 91 90 89 88 87 86 85 84 83 82 81 80 79 78 77 76 75 74 73 72 71 70 69 68 67 66 65 64 63 62 61 60 59 58 57 56 55 54 53 52 51 50 49 48 47 46 45 44 43 42 41 40 39 38 37 36 35 34 33 32 31 30 29 28 27 26 25 24 23 22 21 20 19 18 17 16 15 14 13 12 11 10 9 8 7 6 5 4 3 2 1 "
          ]
        }
      ],
      "source": [
        "for numero in range (1000,0,-1):\n",
        "    print(numero, end=\" \")"
      ]
    },
    {
      "cell_type": "code",
      "execution_count": null,
      "metadata": {
        "colab": {
          "base_uri": "https://localhost:8080/"
        },
        "id": "Nm2DiOnYr3Aw",
        "outputId": "bf82590b-5a05-4d53-e000-ec950d91b936"
      },
      "outputs": [
        {
          "name": "stdout",
          "output_type": "stream",
          "text": [
            "['joao', 'Vinicius', 'Gabriel', 'Mortari']\n",
            "joao\n"
          ]
        }
      ],
      "source": [
        "n = [\"joao\",\"Vinicius\",\"Gabriel\"]\n",
        "n.append(\"Mortari\")\n",
        "print(n)\n",
        "print(n[0])"
      ]
    },
    {
      "cell_type": "code",
      "execution_count": null,
      "metadata": {
        "colab": {
          "base_uri": "https://localhost:8080/"
        },
        "id": "YKi1u_fS2hc2",
        "outputId": "55102a59-4ad8-49d2-d050-cb7161b1a08e"
      },
      "outputs": [
        {
          "name": "stdout",
          "output_type": "stream",
          "text": [
            "['ka', 'mobi', 'marea', 'kwid', 'civic', 'corrola', 'corsa']\n",
            "7\n"
          ]
        }
      ],
      "source": [
        "# 30/09/2025\n",
        "# Listas, tuplas e dicionários\n",
        "\n",
        "#Criando lista manualmente\n",
        "carros = [\"ka\",\"mobi\",\"marea\",\"kwid\",\"civic\",\"corrola\",\"corsa\"]\n",
        "print(carros)\n",
        "print (len(carros))"
      ]
    },
    {
      "cell_type": "code",
      "execution_count": null,
      "metadata": {
        "colab": {
          "base_uri": "https://localhost:8080/"
        },
        "id": "SbKZ6e-P3jjO",
        "outputId": "314786ca-a539-4bd9-b45d-4552e39eee5b"
      },
      "outputs": [
        {
          "name": "stdout",
          "output_type": "stream",
          "text": [
            "Ka, Mobi, Marea, Kwid, Civic, Corrola, Corsa, "
          ]
        }
      ],
      "source": [
        "# Acessando valores indivudualmente através do for:\n",
        "for carro in carros:\n",
        "    print(carro.capitalize(), end=\", \") #CAPITALIZE DEIXA A primeira Letra Maiuscula"
      ]
    },
    {
      "cell_type": "code",
      "execution_count": null,
      "metadata": {
        "id": "SNymVDzo4L8u"
      },
      "outputs": [],
      "source": [
        "# Criação de uma matriz ----> Listas aninhadas\n",
        "carros = [\n",
        "    [\"mobi\",\"fiat\",2000,7000],\n",
        "    [\"corrola\",\"toyota\",2024,160000],\n",
        "    [\"991\",\"porsche\",2024,1000000],\n",
        "    [\"kwid\",\"renault\",2020,57000]\n",
        "]"
      ]
    },
    {
      "cell_type": "code",
      "execution_count": null,
      "metadata": {
        "colab": {
          "base_uri": "https://localhost:8080/"
        },
        "id": "erv4AvDd5NK1",
        "outputId": "f480b59c-ec6a-4d34-ff65-e5d3e46b6cc3"
      },
      "outputs": [
        {
          "name": "stdout",
          "output_type": "stream",
          "text": [
            "QTD de elementos na lista : 4\n"
          ]
        }
      ],
      "source": [
        "print(f\"QTD de elementos na lista : {len(carros)}\")"
      ]
    },
    {
      "cell_type": "code",
      "execution_count": null,
      "metadata": {
        "colab": {
          "base_uri": "https://localhost:8080/"
        },
        "id": "8R6IDfzi5idu",
        "outputId": "db6bc657-18c1-4dfe-f265-683c1d644edb"
      },
      "outputs": [
        {
          "name": "stdout",
          "output_type": "stream",
          "text": [
            "Modelo: Mobi     | Marca: Fiat     | Ano: 2000 | Preço: R$ 7,000.00\n",
            "Modelo: Corrola  | Marca: Toyota   | Ano: 2024 | Preço: R$ 160,000.00\n",
            "Modelo: 991      | Marca: Porsche  | Ano: 2024 | Preço: R$ 1,000,000.00\n",
            "Modelo: Kwid     | Marca: Renault  | Ano: 2020 | Preço: R$ 57,000.00\n"
          ]
        }
      ],
      "source": [
        "# Imprimindo valores da lista (matriz)\n",
        "for e in carros:\n",
        "    print(f\"Modelo: {e [0].capitalize():8} | Marca: {e [1].capitalize():8} | Ano: {e[2]} | Preço: R$ {e[3]:,.2f}\")"
      ]
    },
    {
      "cell_type": "code",
      "execution_count": null,
      "metadata": {
        "colab": {
          "base_uri": "https://localhost:8080/"
        },
        "id": "Xxhtr8JCBf6P",
        "outputId": "d36b8f85-723f-4e5d-832e-615128a4eb55"
      },
      "outputs": [
        {
          "name": "stdout",
          "output_type": "stream",
          "text": [
            "*** MÓDULO DE ESTOQUE; ***\n",
            "\n",
            "\n",
            "Digite o nome do produto : sair\n",
            "\n",
            "Nenhum item cadastrado!!!\n"
          ]
        }
      ],
      "source": [
        "# Crie um programa em Python que faça o cadastro de itens em estoque.\n",
        "# O sistema deve cadastrar: nome do produto, preço unitário e quantidade.\n",
        "# O cadastro será indefinido e será encerrado quando o usuário digitar 'sair'\n",
        "# No nome do produto.\n",
        "# Ao final mostre em tela um relatório com todos itens de estoque e também\n",
        "# O valor total de cada um deles e o valor total do estoque.\n",
        "\n",
        "estoque = [] # Criando Lista Vazia\n",
        "print(f\"*** MÓDULO DE ESTOQUE; ***\\n\")\n",
        "while True: #Loop \"Infinito\"\n",
        "    nome = input(\"\\nDigite o nome do produto : \")\n",
        "    nome = nome.strip().upper()\n",
        "    if nome == \"SAIR\":\n",
        "        break # Comado Break interrompe um Loop (destrói o LOOP!!!!)\n",
        "    preco = float(input(f\"\\nDigite o preço do {nome}: \"))\n",
        "    qtd = int(input(f\"Digite a quantidade do {nome}: \"))\n",
        "    # Após receber todas iformações, faremos a inclusão do elemento na lista:\n",
        "    estoque.append([nome,preco,qtd])\n",
        "# Fim do LOOP While\n",
        "if estoque:\n",
        "    print(f\"\\n*** RELAÇÃO DE ITENS EM ESTOQUE ***\\n\")\n",
        "    total = 0 #Variável acumuladora para somar o total do estoque\n",
        "    for e in  estoque:\n",
        "        print(f\"{e[0]:10} | Preço: R$ {e[1]:10,.2f} | Quantidade: {e[2]:,.2f} \\\n",
        "            | {e[1] * e[2]:,.2f}\")\n",
        "        total = total + e[1] * e[2]\n",
        "    # Fim do loop for\n",
        "    print(f\"\\nTotal em estoque: R${total:,.2f}\")\n",
        "else:\n",
        "    print(f\"\\nNenhum item cadastrado!!!\")"
      ]
    },
    {
      "cell_type": "code",
      "execution_count": null,
      "metadata": {
        "colab": {
          "base_uri": "https://localhost:8080/"
        },
        "id": "Fv2hFyeMKIlL",
        "outputId": "9484bf2d-bf34-4fd7-f909-83f93299cbc5"
      },
      "outputs": [
        {
          "data": {
            "text/plain": [
              "{'kwid': ['renault', 2024, 72000],\n",
              " 'civic': ['honda', 2020, 125000],\n",
              " 'renegade': ['jeep', 2022, 85000],\n",
              " 'corrola': ['toyota', 2025, 165000]}"
            ]
          },
          "execution_count": 6,
          "metadata": {},
          "output_type": "execute_result"
        }
      ],
      "source": [
        "# Criando um dicionário manualmente:\n",
        "\n",
        "carros = {\n",
        "    \"kwid\":[\"renault\", 2024, 72000],\n",
        "    \"civic\": [\"honda\", 2020, 125000],\n",
        "    \"renegade\": [\"jeep\", 2022, 85000],\n",
        "    \"corrola\": [\"toyota\", 2025, 165000]\n",
        "}\n",
        "\n",
        "carros"
      ]
    },
    {
      "cell_type": "code",
      "execution_count": null,
      "metadata": {
        "colab": {
          "base_uri": "https://localhost:8080/"
        },
        "id": "-UTeu-kGMXZr",
        "outputId": "8c52cc75-0c17-4971-a071-40f89c1f25af"
      },
      "outputs": [
        {
          "data": {
            "text/plain": [
              "['renault', 2024, 72000]"
            ]
          },
          "execution_count": 52,
          "metadata": {},
          "output_type": "execute_result"
        }
      ],
      "source": [
        "carros[\"kwid\"]"
      ]
    },
    {
      "cell_type": "code",
      "execution_count": null,
      "metadata": {
        "colab": {
          "base_uri": "https://localhost:8080/"
        },
        "id": "ioKfyCHYMgGC",
        "outputId": "53da50b9-3f71-4aec-f367-fc8d3d92e2ba"
      },
      "outputs": [
        {
          "data": {
            "text/plain": [
              "['honda', 2020, 125000]"
            ]
          },
          "execution_count": 53,
          "metadata": {},
          "output_type": "execute_result"
        }
      ],
      "source": [
        "carros[\"civic\"]"
      ]
    },
    {
      "cell_type": "code",
      "execution_count": null,
      "metadata": {
        "id": "bPXsakHvMlXi"
      },
      "outputs": [],
      "source": [
        "chaves = list(carros.keys())"
      ]
    },
    {
      "cell_type": "code",
      "execution_count": null,
      "metadata": {
        "colab": {
          "base_uri": "https://localhost:8080/"
        },
        "id": "dMrRlWU5MtPS",
        "outputId": "09e75756-a7da-489c-bd4a-4f461e202403"
      },
      "outputs": [
        {
          "data": {
            "text/plain": [
              "['kwid', 'civic', 'renegade', 'corrola']"
            ]
          },
          "execution_count": 57,
          "metadata": {},
          "output_type": "execute_result"
        }
      ],
      "source": [
        "chaves"
      ]
    },
    {
      "cell_type": "code",
      "execution_count": null,
      "metadata": {
        "colab": {
          "base_uri": "https://localhost:8080/"
        },
        "id": "u2ucVSNwM19C",
        "outputId": "c2c3cb56-25f3-45eb-9d85-99203705f6cb"
      },
      "outputs": [
        {
          "data": {
            "text/plain": [
              "[['renault', 2024, 72000],\n",
              " ['honda', 2020, 125000],\n",
              " ['jeep', 2022, 85000],\n",
              " ['toyota', 2025, 165000]]"
            ]
          },
          "execution_count": 60,
          "metadata": {},
          "output_type": "execute_result"
        }
      ],
      "source": [
        "valores = list(carros.values())\n",
        "\n",
        "valores"
      ]
    },
    {
      "cell_type": "code",
      "execution_count": null,
      "metadata": {
        "colab": {
          "base_uri": "https://localhost:8080/"
        },
        "id": "AlqFFaugNRAi",
        "outputId": "7bcb79a1-ecbb-42d3-a7e3-2618918f3b12"
      },
      "outputs": [
        {
          "name": "stdout",
          "output_type": "stream",
          "text": [
            "Kwid       | Marca; renault | Ano:2024 | Valor: 72,000.00\n",
            "Civic      | Marca; honda | Ano:2020 | Valor: 125,000.00\n",
            "Renegade   | Marca; jeep | Ano:2022 | Valor: 85,000.00\n",
            "Corrola    | Marca; toyota | Ano:2025 | Valor: 165,000.00\n"
          ]
        }
      ],
      "source": [
        "for c, v in carros.items():\n",
        "    print(f\"{c.capitalize():10} | Marca; {v[0]} | Ano:{v[1]} | Valor: {v[2]:,.2f}\")"
      ]
    },
    {
      "cell_type": "code",
      "execution_count": null,
      "metadata": {
        "colab": {
          "base_uri": "https://localhost:8080/"
        },
        "id": "B_HfV4WgzuYi",
        "outputId": "f2946466-e226-4144-8abf-41aafc219fee"
      },
      "outputs": [
        {
          "name": "stdout",
          "output_type": "stream",
          "text": [
            "*** MÓDULO DE ESTOQUE; ***\n",
            "\n",
            "\n",
            "Digite o nome do produto : chocolate\n",
            "\n",
            "Digite o preço do CHOCOLATE: 10\n",
            "Digite a quantidade do CHOCOLATE: 50\n",
            "\n",
            "Digite o nome do produto : sair\n",
            "\n",
            "*** RELAÇÃO DE ITENS EM ESTOQUE ***\n",
            "\n",
            "CHOCOLATE  | Preço: R$      10.00 | Quantidade: 50.00             | 500.00\n",
            "\n",
            "Total em estoque: R$500.00\n"
          ]
        }
      ],
      "source": [
        "# 01/10/2025\n",
        "# Refaça a atividade do cadastro de estoque porém usando um dicionário de dados\n",
        "\n",
        "estoque = {} # Criando dicionário vazio\n",
        "print(f\"*** MÓDULO DE ESTOQUE; ***\\n\")\n",
        "while True: #Loop \"Infinito\"\n",
        "    nome = input(\"\\nDigite o nome do produto : \")\n",
        "    nome = nome.strip().upper()\n",
        "    if nome == \"SAIR\":\n",
        "        break # Comado Break interrompe um Loop (destrói o LOOP!!!!)\n",
        "    preco = float(input(f\"\\nDigite o preço do {nome}: \"))\n",
        "    qtd = int(input(f\"Digite a quantidade do {nome}: \"))\n",
        "    # Após receber todas iformações, faremos a inclusão do elemento no dicionário:\n",
        "    estoque[nome] = [preco,qtd]\n",
        "    # estoque.update({nome: [preco,qtd]})\n",
        "# Fim do LOOP While\n",
        "if estoque:\n",
        "    print(f\"\\n*** RELAÇÃO DE ITENS EM ESTOQUE ***\\n\")\n",
        "    total = 0 #Variável acumuladora para somar o total do estoque\n",
        "    for c, v in estoque.items():\n",
        "        print(f\"{c:10} | Preço: R$ {v[0]:10,.2f} | Quantidade: {v[1]:,.2f} \\\n",
        "            | {v[0] * v[1]:,.2f}\")\n",
        "        total = total + v[0] * v[1]\n",
        "    # Fim do loop for\n",
        "    print(f\"\\nTotal em estoque: R${total:,.2f}\")\n",
        "else:\n",
        "    print(f\"\\nNenhum item cadastrado!!!\")"
      ]
    },
    {
      "cell_type": "code",
      "execution_count": null,
      "metadata": {
        "id": "VGjBNgZ-2VDp"
      },
      "outputs": [],
      "source": [
        "# Dado o dicionário abaixo, exiba as seguintes informações: (sem usar o 'for')\n",
        "\n",
        "funcionarios = {\n",
        "    \"alex\": [\"analista\", \"ti\", 7500],\n",
        "    \"bruna\": [\"analista\", \"rh\", 4800],\n",
        "    \"pedro\": [\"cordenador\", \"projetos\", 15000],\n",
        "    \"joao\": [\"assistente\", \"projetos\", 3100]\n",
        "}"
      ]
    },
    {
      "cell_type": "code",
      "execution_count": null,
      "metadata": {
        "colab": {
          "base_uri": "https://localhost:8080/"
        },
        "id": "IdcDNCP-3CMh",
        "outputId": "3a478909-386e-426c-92db-5c5f7e40fa85"
      },
      "outputs": [
        {
          "name": "stdout",
          "output_type": "stream",
          "text": [
            "bruna tem um salário de : 4800\n"
          ]
        }
      ],
      "source": [
        "# a) Exiba o salário da bruna da seguinte forma:\n",
        "# Bruna tem um salário de R$ 4800\n",
        "nome = list(funcionarios.keys())\n",
        "nome1 = nome[1]\n",
        "salario = funcionarios['bruna']\n",
        "print(f\"{nome1} tem um salário de : {salario[2]}\")"
      ]
    },
    {
      "cell_type": "code",
      "execution_count": null,
      "metadata": {
        "colab": {
          "base_uri": "https://localhost:8080/"
        },
        "id": "G09pkjhu3PPB",
        "outputId": "92264a7c-7ae9-41ce-a3e4-a2d9c71f51a6"
      },
      "outputs": [
        {
          "name": "stdout",
          "output_type": "stream",
          "text": [
            "joao  é assistente na empresa\n"
          ]
        }
      ],
      "source": [
        "# b) Exiba o cardo do Joao da seguinte forma:\n",
        "# Joao é assistente na empresa\n",
        "print(f\"{list(funcionarios.keys())[3]}  é {list(funcionarios.values())[3][0]} na empresa\")"
      ]
    },
    {
      "cell_type": "code",
      "execution_count": null,
      "metadata": {
        "colab": {
          "base_uri": "https://localhost:8080/"
        },
        "id": "Yd3Nx9l83bDR",
        "outputId": "967e0436-9eda-4e8b-8b3c-328aa7380a6c"
      },
      "outputs": [
        {
          "name": "stdout",
          "output_type": "stream",
          "text": [
            "A diferença do salário entre pedro e alex é 7500\n"
          ]
        }
      ],
      "source": [
        "# c) Exiba a diferença entre o salário do pedro e do alex\n",
        "# Mostre da seguinte forma:\n",
        "# A diferença de salário entre Pedro e Alex é de R$ xxxxx\n",
        "print(f\"A diferença do salário entre {list(funcionarios.keys())[2]} e {list(funcionarios.keys())[0]} é {list(funcionarios.values())[2][2]-list(funcionarios.values())[0][2]}\")"
      ]
    },
    {
      "cell_type": "code",
      "execution_count": null,
      "metadata": {
        "colab": {
          "background_save": true
        },
        "id": "iMpLsC0WRtA-"
      },
      "outputs": [],
      "source": [
        "# Funções em Python\n",
        "# Crie uma função que exiba na tela 3 vezes a frase : \"Boa noite Senai!\"\n",
        "\n",
        "def boa_noite():\n",
        "    for i in range(3):\n",
        "        print(f\"Boa noite Senai!!!\")"
      ]
    },
    {
      "cell_type": "code",
      "execution_count": null,
      "metadata": {
        "colab": {
          "background_save": true
        },
        "id": "boL4kX9VSQVO",
        "outputId": "5434aee6-5353-4a6f-97cd-d57a30901c2f"
      },
      "outputs": [
        {
          "ename": "RecursionError",
          "evalue": "maximum recursion depth exceeded",
          "output_type": "error",
          "traceback": [
            "\u001b[0;31m---------------------------------------------------------------------------\u001b[0m",
            "\u001b[0;31mRecursionError\u001b[0m                            Traceback (most recent call last)",
            "\u001b[0;32m/tmp/ipython-input-1813622312.py\u001b[0m in \u001b[0;36m<cell line: 0>\u001b[0;34m()\u001b[0m\n\u001b[1;32m      1\u001b[0m \u001b[0;31m# Invocando a (executar) a função\u001b[0m\u001b[0;34m\u001b[0m\u001b[0;34m\u001b[0m\u001b[0m\n\u001b[0;32m----> 2\u001b[0;31m \u001b[0mboa_noite\u001b[0m\u001b[0;34m(\u001b[0m\u001b[0;34m)\u001b[0m\u001b[0;34m\u001b[0m\u001b[0;34m\u001b[0m\u001b[0m\n\u001b[0m\u001b[1;32m      3\u001b[0m \u001b[0mprint\u001b[0m\u001b[0;34m(\u001b[0m\u001b[0;34m\";;;;;;;;;;;;;;;;;;;;;;;;;\"\u001b[0m\u001b[0;34m)\u001b[0m\u001b[0;34m\u001b[0m\u001b[0;34m\u001b[0m\u001b[0m\n\u001b[1;32m      4\u001b[0m \u001b[0mboa_noite\u001b[0m\u001b[0;34m(\u001b[0m\u001b[0;34m)\u001b[0m\u001b[0;34m\u001b[0m\u001b[0;34m\u001b[0m\u001b[0m\n",
            "\u001b[0;32m/tmp/ipython-input-2254893860.py\u001b[0m in \u001b[0;36mboa_noite\u001b[0;34m()\u001b[0m\n\u001b[1;32m      4\u001b[0m \u001b[0;32mdef\u001b[0m \u001b[0mboa_noite\u001b[0m\u001b[0;34m(\u001b[0m\u001b[0;34m)\u001b[0m\u001b[0;34m:\u001b[0m\u001b[0;34m\u001b[0m\u001b[0;34m\u001b[0m\u001b[0m\n\u001b[1;32m      5\u001b[0m     \u001b[0;32mfor\u001b[0m \u001b[0mi\u001b[0m \u001b[0;32min\u001b[0m \u001b[0mrange\u001b[0m\u001b[0;34m(\u001b[0m\u001b[0;36m3\u001b[0m\u001b[0;34m)\u001b[0m\u001b[0;34m:\u001b[0m\u001b[0;34m\u001b[0m\u001b[0;34m\u001b[0m\u001b[0m\n\u001b[0;32m----> 6\u001b[0;31m         \u001b[0mprint\u001b[0m\u001b[0;34m(\u001b[0m\u001b[0;34mf\"{boa_noite()}Boa noite Senai!!!\"\u001b[0m\u001b[0;34m)\u001b[0m\u001b[0;34m\u001b[0m\u001b[0;34m\u001b[0m\u001b[0m\n\u001b[0m",
            "... last 1 frames repeated, from the frame below ...\n",
            "\u001b[0;32m/tmp/ipython-input-2254893860.py\u001b[0m in \u001b[0;36mboa_noite\u001b[0;34m()\u001b[0m\n\u001b[1;32m      4\u001b[0m \u001b[0;32mdef\u001b[0m \u001b[0mboa_noite\u001b[0m\u001b[0;34m(\u001b[0m\u001b[0;34m)\u001b[0m\u001b[0;34m:\u001b[0m\u001b[0;34m\u001b[0m\u001b[0;34m\u001b[0m\u001b[0m\n\u001b[1;32m      5\u001b[0m     \u001b[0;32mfor\u001b[0m \u001b[0mi\u001b[0m \u001b[0;32min\u001b[0m \u001b[0mrange\u001b[0m\u001b[0;34m(\u001b[0m\u001b[0;36m3\u001b[0m\u001b[0;34m)\u001b[0m\u001b[0;34m:\u001b[0m\u001b[0;34m\u001b[0m\u001b[0;34m\u001b[0m\u001b[0m\n\u001b[0;32m----> 6\u001b[0;31m         \u001b[0mprint\u001b[0m\u001b[0;34m(\u001b[0m\u001b[0;34mf\"{boa_noite()}Boa noite Senai!!!\"\u001b[0m\u001b[0;34m)\u001b[0m\u001b[0;34m\u001b[0m\u001b[0;34m\u001b[0m\u001b[0m\n\u001b[0m",
            "\u001b[0;31mRecursionError\u001b[0m: maximum recursion depth exceeded"
          ]
        }
      ],
      "source": [
        "# Invocando a (executar) a função\n",
        "boa_noite()\n",
        "print(\";;;;;;;;;;;;;;;;;;;;;;;;;\")\n",
        "boa_noite()"
      ]
    },
    {
      "cell_type": "code",
      "execution_count": null,
      "metadata": {
        "id": "-RaESFTTTIuE"
      },
      "outputs": [],
      "source": [
        "# Crie uma função que receba uma frase e a quantidade de vezes\n",
        "# que a frase sera repetida\n",
        "\n",
        "def dizer_frase(frase, qtd):\n",
        "    for r in range(qtd):\n",
        "        print(frase)"
      ]
    },
    {
      "cell_type": "code",
      "execution_count": null,
      "metadata": {
        "id": "nQG0spQ6TZIN"
      },
      "outputs": [],
      "source": [
        "# Invocando função\n"
      ]
    }
  ],
  "metadata": {
    "colab": {
      "toc_visible": true,
      "provenance": [],
      "authorship_tag": "ABX9TyPmAIo9Jy88uX59Xz/jzFGe",
      "include_colab_link": true
    },
    "kernelspec": {
      "display_name": "Python 3",
      "name": "python3"
    },
    "language_info": {
      "name": "python"
    }
  },
  "nbformat": 4,
  "nbformat_minor": 0
}