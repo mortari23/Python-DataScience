{
  "nbformat": 4,
  "nbformat_minor": 0,
  "metadata": {
    "colab": {
      "provenance": [],
      "authorship_tag": "ABX9TyMGvpCARjCa3cj6VLTI72lp",
      "include_colab_link": true
    },
    "kernelspec": {
      "name": "python3",
      "display_name": "Python 3"
    },
    "language_info": {
      "name": "python"
    }
  },
  "cells": [
    {
      "cell_type": "markdown",
      "metadata": {
        "id": "view-in-github",
        "colab_type": "text"
      },
      "source": [
        "<a href=\"https://colab.research.google.com/github/mortari23/Python-DataScience/blob/main/Revis%C3%A3o_Python_25n3.ipynb\" target=\"_parent\"><img src=\"https://colab.research.google.com/assets/colab-badge.svg\" alt=\"Open In Colab\"/></a>"
      ]
    },
    {
      "cell_type": "code",
      "execution_count": 6,
      "metadata": {
        "colab": {
          "base_uri": "https://localhost:8080/"
        },
        "id": "38RlpQWIFI-2",
        "outputId": "78a86f9e-12d2-489c-a80c-3b285a620494"
      },
      "outputs": [
        {
          "output_type": "stream",
          "name": "stdout",
          "text": [
            "Me chamo Riguetto sou Soldado do exercito e moro em SÃO JOSÉ DO RIO PRETO\n"
          ]
        }
      ],
      "source": [
        "# 25/09/2025\n",
        "#Revisão da linguagem Python para anásile de dados\n",
        "\n",
        "# Crie 3 variáveis para que voce se apresente. atribua os valores\n",
        "#nas variaveis e depois os exiba em tela\n",
        "# me chamo 'Fulano', sou 'Função' e moro em 'cidade'\n",
        "nome = 'Riguetto'\n",
        "profissao = 'Soldado do exercito'\n",
        "cidade = 'SÃO JOSÉ DO RIO PRETO'\n",
        "\n",
        "print('Me chamo', nome, 'sou', profissao, 'e moro em', cidade)"
      ]
    },
    {
      "cell_type": "code",
      "source": [
        "# Uso de Format-String\n",
        "print(f'me chamo{nome} sou {profissao}, e moro em {cidade} ')"
      ],
      "metadata": {
        "colab": {
          "base_uri": "https://localhost:8080/"
        },
        "id": "4XC6HMpdHxUe",
        "outputId": "7ab46bf2-f093-4dc6-a747-268d543b8223"
      },
      "execution_count": 10,
      "outputs": [
        {
          "output_type": "stream",
          "name": "stdout",
          "text": [
            "me chamoRiguetto sou Soldado do exercito, e moro em SÃO JOSÉ DO RIO PRETO \n"
          ]
        }
      ]
    },
    {
      "cell_type": "code",
      "source": [
        "#Crie um programa que receba a idade de uma pessoa e mostre em tela\n",
        "#se ela é maior ou menor\n",
        "idade = int (input('Informe sua Idade : '))\n",
        "if idade >= 18 :\n",
        "\n",
        "    print(f'voce tem {idade} anos e é maior de idade!')\n",
        "else:\n",
        "    print(f'voce tem {idade} anos e é menor de idade!')"
      ],
      "metadata": {
        "colab": {
          "base_uri": "https://localhost:8080/"
        },
        "id": "zU16jvzDJtWM",
        "outputId": "f3bc8e03-b398-4190-99e7-2d66e8b441a8"
      },
      "execution_count": 17,
      "outputs": [
        {
          "output_type": "stream",
          "name": "stdout",
          "text": [
            "Informe sua Idade : 20\n",
            "voce é maior de idade\n"
          ]
        }
      ]
    },
    {
      "cell_type": "code",
      "source": [
        "#Crie um programa que receba dois nomes e duas alturas.\n",
        "#mostre em tela qual das pessoas é a mais alta ou possuem a mesma altura\n",
        "nome1 = input(\"Digite o nome da 1º pessoa : \")\n",
        "altura1 = float(input(f\"Digite a altura do (a) {nome1} : \"))\n",
        "nome2 = input(\"Digite o nome da 2º pessoa : \")\n",
        "altura2 = float(input(f\"digite a altura do (a) {nome2}\"))\n",
        "if altura1 == altura2:\n",
        "    print(f\"{nome1} e {nome2} tem a mesma altura! {altura1}\")\n",
        "elif altura1 > altura2:\n",
        "    print(f\"{nome1} é mais alta que {nome2}!\")\n",
        "else:\n",
        "    print(f\"a {nome2} é mais alto(a) do que {nome1}\")"
      ],
      "metadata": {
        "colab": {
          "base_uri": "https://localhost:8080/"
        },
        "id": "ZJ7Ii_VOSD-L",
        "outputId": "51907043-3df7-42b6-ff5a-429bd5a70c66"
      },
      "execution_count": 24,
      "outputs": [
        {
          "output_type": "stream",
          "name": "stdout",
          "text": [
            "Digite o nome da 1º pessoa : 10\n",
            "Digite a altura do (a) 10 : 10\n",
            "Digite o nome da 2º pessoa : 10\n",
            "digite a altura do (a) 1010\n",
            "10 e 10 tem a mesma altura! 10.0\n"
          ]
        }
      ]
    },
    {
      "cell_type": "code",
      "source": [
        "# CRIE Um programa que receba a idade e o salário de uma pessoa.\n",
        "# SE a idade for maior ou igual a 50 e salário menor que 3500, reajuste o salário em 7.5%\n",
        "# Senão reajuste em 5%\n",
        "#Mostre salários reajus e a diferença bruta do reajuste\n",
        "\n",
        "\n",
        "idade = int(input(\"Digite sua idade: \"))\n",
        "salario = float(input(\"Digite seu salario1: \"))\n",
        "if idade >= 50 and salario < 3500:\n",
        "    salario_reajustado = salario * 1.075\n",
        "    tx =7.5\n",
        "    print(f\"Valor reajustado é de {salario_reajustado}\")\n",
        "else:\n",
        "    tx= 5\n",
        "    salario_reajustado = salario * 1.05\n",
        "print(f\"Novo salário: {salario_reajustado} | Taxa de  {tx}%\")\n",
        "print(f\"Diferença bruta: R$ {salario_reajustado - salario}\")"
      ],
      "metadata": {
        "colab": {
          "base_uri": "https://localhost:8080/"
        },
        "id": "cJvbSTTMWGDb",
        "outputId": "b0cb313d-202a-42a6-d467-9aea4e3818a3"
      },
      "execution_count": 33,
      "outputs": [
        {
          "output_type": "stream",
          "name": "stdout",
          "text": [
            "Digite sua idade: 50\n",
            "Digite seu salario1: 2500\n",
            "Valor reajustado é de 2687.5\n",
            "Novo salário: 2687.5 | Taxa de  7.5%\n",
            "Diferença bruta: R$ 187.5\n"
          ]
        }
      ]
    },
    {
      "cell_type": "code",
      "source": [
        "#Crie um programa que verifique se uma pessoa pode ou não doar sangue\n",
        "#Sera digitada a idade e o peso da pessoa.\n",
        "#regra: Somente pessoas com idade entre 16 e 69 e peso a partir de 50kg\n",
        "#podem doar\n",
        "\n",
        "idade = int(input(\"Informe sua Idade: \"))\n",
        "peso = float(input(\"Digite seu Peso: \"))\n",
        "if idade >=16 and idade <=69 and peso >= 50:\n",
        "    print(\"Voce pode doar\")\n",
        "else:\n",
        "    print(\"Infelizmente voce nao pode doar sangue\")"
      ],
      "metadata": {
        "colab": {
          "base_uri": "https://localhost:8080/"
        },
        "id": "QvJ5A2tYZZ-q",
        "outputId": "381124a7-7b82-4e3e-fc77-01263a1da2bd"
      },
      "execution_count": 37,
      "outputs": [
        {
          "output_type": "stream",
          "name": "stdout",
          "text": [
            "Informe sua Idade: 70\n",
            "Digite seu Peso: 50\n",
            "Infelizmente voce nao pode doar sangue\n"
          ]
        }
      ]
    },
    {
      "cell_type": "code",
      "source": [
        "idade = int(input(\"Informe sua Idade: \"))\n",
        "if idade < 16 or idade > 69:\n",
        "    print(f\"voce noa pode doar sangue! idade não permitida\")\n",
        "else:\n",
        "peso = float(input(\"Digite seu Peso: \"))\n",
        "if ,peso >= 50:\n",
        "    print(\"Voce pode doar\")\n",
        "else:\n",
        "    print(\"Infelizmente voce nao pode doar sangue\")"
      ],
      "metadata": {
        "id": "9s7vVV4ee4ey"
      },
      "execution_count": null,
      "outputs": []
    },
    {
      "cell_type": "code",
      "source": [],
      "metadata": {
        "id": "GaMvTdiQfhh6"
      },
      "execution_count": null,
      "outputs": []
    }
  ]
}