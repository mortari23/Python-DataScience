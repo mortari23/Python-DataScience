{
  "nbformat": 4,
  "nbformat_minor": 0,
  "metadata": {
    "colab": {
      "provenance": []
    },
    "kernelspec": {
      "name": "python3",
      "display_name": "Python 3"
    },
    "language_info": {
      "name": "python"
    }
  },
  "cells": [
    {
      "cell_type": "code",
      "execution_count": 1,
      "metadata": {
        "colab": {
          "base_uri": "https://localhost:8080/"
        },
        "id": "LF7e_XYhEZg_",
        "outputId": "98cf1ed3-8e65-4708-db70-05a8c6e111aa"
      },
      "outputs": [
        {
          "output_type": "stream",
          "name": "stdout",
          "text": [
            "Requirement already satisfied: pyspark in /usr/local/lib/python3.12/dist-packages (3.5.1)\n",
            "Requirement already satisfied: py4j==0.10.9.7 in /usr/local/lib/python3.12/dist-packages (from pyspark) (0.10.9.7)\n"
          ]
        }
      ],
      "source": [
        "# Criar ambiente e sessão spark em memória\n",
        "\n",
        "# Instalando biblioteca pyspark\n",
        "!pip install pyspark"
      ]
    },
    {
      "cell_type": "code",
      "source": [
        "# Importando ferramentas (funções) do pyspark\n",
        "from pyspark.sql import SparkSession as ss\n",
        "from pyspark.sql import functions as f\n",
        "from pyspark.sql.types import DoubleType"
      ],
      "metadata": {
        "id": "A-HGWPgnE-SD"
      },
      "execution_count": 2,
      "outputs": []
    },
    {
      "cell_type": "code",
      "source": [
        "# Criando objeto spark\n",
        "spark = ss.builder.appName(\"SENAI\").getOrCreate()"
      ],
      "metadata": {
        "id": "fmWEQngdHhaz"
      },
      "execution_count": 6,
      "outputs": []
    },
    {
      "cell_type": "code",
      "source": [
        "spark"
      ],
      "metadata": {
        "colab": {
          "base_uri": "https://localhost:8080/",
          "height": 222
        },
        "id": "IMCsm8ROIWSB",
        "outputId": "5c087fd0-38c0-421c-f735-4adc7f8439aa"
      },
      "execution_count": 7,
      "outputs": [
        {
          "output_type": "execute_result",
          "data": {
            "text/plain": [
              "<pyspark.sql.session.SparkSession at 0x7dc91e8fc4a0>"
            ],
            "text/html": [
              "\n",
              "            <div>\n",
              "                <p><b>SparkSession - in-memory</b></p>\n",
              "                \n",
              "        <div>\n",
              "            <p><b>SparkContext</b></p>\n",
              "\n",
              "            <p><a href=\"http://4c693b85bf1b:4040\">Spark UI</a></p>\n",
              "\n",
              "            <dl>\n",
              "              <dt>Version</dt>\n",
              "                <dd><code>v3.5.1</code></dd>\n",
              "              <dt>Master</dt>\n",
              "                <dd><code>local[*]</code></dd>\n",
              "              <dt>AppName</dt>\n",
              "                <dd><code>SENAI</code></dd>\n",
              "            </dl>\n",
              "        </div>\n",
              "        \n",
              "            </div>\n",
              "        "
            ]
          },
          "metadata": {},
          "execution_count": 7
        }
      ]
    },
    {
      "cell_type": "code",
      "source": [
        "dados = (\n",
        "    (\"ana\",\"analista\", 6200),\n",
        "    (\"joao\",\"assistente\", 3100),\n",
        "    (\"julio\",\"analista\", 7900),\n",
        "    (\"bruna\",\"cordenadora\",16000),\n",
        "    (\"pedro\",\"coordenador\",15000),\n",
        "    (\"felipe\",\"auxiliar\",2500)\n",
        ")"
      ],
      "metadata": {
        "id": "BLkHlzfNGBGD"
      },
      "execution_count": 3,
      "outputs": []
    },
    {
      "cell_type": "code",
      "source": [
        "dados"
      ],
      "metadata": {
        "colab": {
          "base_uri": "https://localhost:8080/"
        },
        "id": "KcoAmobVGsYj",
        "outputId": "0d4192a2-f6cd-405f-a5d2-c5dcb43ea799"
      },
      "execution_count": 4,
      "outputs": [
        {
          "output_type": "execute_result",
          "data": {
            "text/plain": [
              "(('ana', 'analista', 6200),\n",
              " ('joao', 'assistente', 3100),\n",
              " ('julio', 'analista', 7900),\n",
              " ('bruna', 'cordenadora', 16000),\n",
              " ('pedro', 'coordenador', 15000),\n",
              " ('felipe', 'auxiliar', 2500))"
            ]
          },
          "metadata": {},
          "execution_count": 4
        }
      ]
    },
    {
      "cell_type": "code",
      "source": [
        "colunas = (\"funcionario\", \"funcao\", \"salario\")"
      ],
      "metadata": {
        "id": "erniERGFG0rx"
      },
      "execution_count": 5,
      "outputs": []
    },
    {
      "cell_type": "code",
      "source": [
        "# Criando Data Frame manualmente:\n",
        "df1 = spark.createDataFrame(dados,colunas)"
      ],
      "metadata": {
        "id": "Fedz92RfHDIR"
      },
      "execution_count": 8,
      "outputs": []
    },
    {
      "cell_type": "code",
      "source": [
        "df1.show()"
      ],
      "metadata": {
        "colab": {
          "base_uri": "https://localhost:8080/"
        },
        "id": "Wn7IXq9wI6ER",
        "outputId": "0e870815-4a4c-437d-a0ef-7f29b8791ac2"
      },
      "execution_count": 9,
      "outputs": [
        {
          "output_type": "stream",
          "name": "stdout",
          "text": [
            "+-----------+-----------+-------+\n",
            "|funcionario|     funcao|salario|\n",
            "+-----------+-----------+-------+\n",
            "|        ana|   analista|   6200|\n",
            "|       joao| assistente|   3100|\n",
            "|      julio|   analista|   7900|\n",
            "|      bruna|cordenadora|  16000|\n",
            "|      pedro|coordenador|  15000|\n",
            "|     felipe|   auxiliar|   2500|\n",
            "+-----------+-----------+-------+\n",
            "\n"
          ]
        }
      ]
    },
    {
      "cell_type": "code",
      "source": [
        "df1.toPandas()"
      ],
      "metadata": {
        "colab": {
          "base_uri": "https://localhost:8080/",
          "height": 237
        },
        "id": "pw1kZWj6JL2h",
        "outputId": "7c29afca-094b-4e63-9b2f-4e0666aeb162"
      },
      "execution_count": 12,
      "outputs": [
        {
          "output_type": "execute_result",
          "data": {
            "text/plain": [
              "  funcionario       funcao  salario\n",
              "0         ana     analista     6200\n",
              "1        joao   assistente     3100\n",
              "2       julio     analista     7900\n",
              "3       bruna  cordenadora    16000\n",
              "4       pedro  coordenador    15000\n",
              "5      felipe     auxiliar     2500"
            ],
            "text/html": [
              "\n",
              "  <div id=\"df-6fe70be3-0b3c-4b28-a9f0-646e1a707298\" class=\"colab-df-container\">\n",
              "    <div>\n",
              "<style scoped>\n",
              "    .dataframe tbody tr th:only-of-type {\n",
              "        vertical-align: middle;\n",
              "    }\n",
              "\n",
              "    .dataframe tbody tr th {\n",
              "        vertical-align: top;\n",
              "    }\n",
              "\n",
              "    .dataframe thead th {\n",
              "        text-align: right;\n",
              "    }\n",
              "</style>\n",
              "<table border=\"1\" class=\"dataframe\">\n",
              "  <thead>\n",
              "    <tr style=\"text-align: right;\">\n",
              "      <th></th>\n",
              "      <th>funcionario</th>\n",
              "      <th>funcao</th>\n",
              "      <th>salario</th>\n",
              "    </tr>\n",
              "  </thead>\n",
              "  <tbody>\n",
              "    <tr>\n",
              "      <th>0</th>\n",
              "      <td>ana</td>\n",
              "      <td>analista</td>\n",
              "      <td>6200</td>\n",
              "    </tr>\n",
              "    <tr>\n",
              "      <th>1</th>\n",
              "      <td>joao</td>\n",
              "      <td>assistente</td>\n",
              "      <td>3100</td>\n",
              "    </tr>\n",
              "    <tr>\n",
              "      <th>2</th>\n",
              "      <td>julio</td>\n",
              "      <td>analista</td>\n",
              "      <td>7900</td>\n",
              "    </tr>\n",
              "    <tr>\n",
              "      <th>3</th>\n",
              "      <td>bruna</td>\n",
              "      <td>cordenadora</td>\n",
              "      <td>16000</td>\n",
              "    </tr>\n",
              "    <tr>\n",
              "      <th>4</th>\n",
              "      <td>pedro</td>\n",
              "      <td>coordenador</td>\n",
              "      <td>15000</td>\n",
              "    </tr>\n",
              "    <tr>\n",
              "      <th>5</th>\n",
              "      <td>felipe</td>\n",
              "      <td>auxiliar</td>\n",
              "      <td>2500</td>\n",
              "    </tr>\n",
              "  </tbody>\n",
              "</table>\n",
              "</div>\n",
              "    <div class=\"colab-df-buttons\">\n",
              "\n",
              "  <div class=\"colab-df-container\">\n",
              "    <button class=\"colab-df-convert\" onclick=\"convertToInteractive('df-6fe70be3-0b3c-4b28-a9f0-646e1a707298')\"\n",
              "            title=\"Convert this dataframe to an interactive table.\"\n",
              "            style=\"display:none;\">\n",
              "\n",
              "  <svg xmlns=\"http://www.w3.org/2000/svg\" height=\"24px\" viewBox=\"0 -960 960 960\">\n",
              "    <path d=\"M120-120v-720h720v720H120Zm60-500h600v-160H180v160Zm220 220h160v-160H400v160Zm0 220h160v-160H400v160ZM180-400h160v-160H180v160Zm440 0h160v-160H620v160ZM180-180h160v-160H180v160Zm440 0h160v-160H620v160Z\"/>\n",
              "  </svg>\n",
              "    </button>\n",
              "\n",
              "  <style>\n",
              "    .colab-df-container {\n",
              "      display:flex;\n",
              "      gap: 12px;\n",
              "    }\n",
              "\n",
              "    .colab-df-convert {\n",
              "      background-color: #E8F0FE;\n",
              "      border: none;\n",
              "      border-radius: 50%;\n",
              "      cursor: pointer;\n",
              "      display: none;\n",
              "      fill: #1967D2;\n",
              "      height: 32px;\n",
              "      padding: 0 0 0 0;\n",
              "      width: 32px;\n",
              "    }\n",
              "\n",
              "    .colab-df-convert:hover {\n",
              "      background-color: #E2EBFA;\n",
              "      box-shadow: 0px 1px 2px rgba(60, 64, 67, 0.3), 0px 1px 3px 1px rgba(60, 64, 67, 0.15);\n",
              "      fill: #174EA6;\n",
              "    }\n",
              "\n",
              "    .colab-df-buttons div {\n",
              "      margin-bottom: 4px;\n",
              "    }\n",
              "\n",
              "    [theme=dark] .colab-df-convert {\n",
              "      background-color: #3B4455;\n",
              "      fill: #D2E3FC;\n",
              "    }\n",
              "\n",
              "    [theme=dark] .colab-df-convert:hover {\n",
              "      background-color: #434B5C;\n",
              "      box-shadow: 0px 1px 3px 1px rgba(0, 0, 0, 0.15);\n",
              "      filter: drop-shadow(0px 1px 2px rgba(0, 0, 0, 0.3));\n",
              "      fill: #FFFFFF;\n",
              "    }\n",
              "  </style>\n",
              "\n",
              "    <script>\n",
              "      const buttonEl =\n",
              "        document.querySelector('#df-6fe70be3-0b3c-4b28-a9f0-646e1a707298 button.colab-df-convert');\n",
              "      buttonEl.style.display =\n",
              "        google.colab.kernel.accessAllowed ? 'block' : 'none';\n",
              "\n",
              "      async function convertToInteractive(key) {\n",
              "        const element = document.querySelector('#df-6fe70be3-0b3c-4b28-a9f0-646e1a707298');\n",
              "        const dataTable =\n",
              "          await google.colab.kernel.invokeFunction('convertToInteractive',\n",
              "                                                    [key], {});\n",
              "        if (!dataTable) return;\n",
              "\n",
              "        const docLinkHtml = 'Like what you see? Visit the ' +\n",
              "          '<a target=\"_blank\" href=https://colab.research.google.com/notebooks/data_table.ipynb>data table notebook</a>'\n",
              "          + ' to learn more about interactive tables.';\n",
              "        element.innerHTML = '';\n",
              "        dataTable['output_type'] = 'display_data';\n",
              "        await google.colab.output.renderOutput(dataTable, element);\n",
              "        const docLink = document.createElement('div');\n",
              "        docLink.innerHTML = docLinkHtml;\n",
              "        element.appendChild(docLink);\n",
              "      }\n",
              "    </script>\n",
              "  </div>\n",
              "\n",
              "\n",
              "    <div id=\"df-29bd4c46-f85b-41ab-b719-da881f584aab\">\n",
              "      <button class=\"colab-df-quickchart\" onclick=\"quickchart('df-29bd4c46-f85b-41ab-b719-da881f584aab')\"\n",
              "                title=\"Suggest charts\"\n",
              "                style=\"display:none;\">\n",
              "\n",
              "<svg xmlns=\"http://www.w3.org/2000/svg\" height=\"24px\"viewBox=\"0 0 24 24\"\n",
              "     width=\"24px\">\n",
              "    <g>\n",
              "        <path d=\"M19 3H5c-1.1 0-2 .9-2 2v14c0 1.1.9 2 2 2h14c1.1 0 2-.9 2-2V5c0-1.1-.9-2-2-2zM9 17H7v-7h2v7zm4 0h-2V7h2v10zm4 0h-2v-4h2v4z\"/>\n",
              "    </g>\n",
              "</svg>\n",
              "      </button>\n",
              "\n",
              "<style>\n",
              "  .colab-df-quickchart {\n",
              "      --bg-color: #E8F0FE;\n",
              "      --fill-color: #1967D2;\n",
              "      --hover-bg-color: #E2EBFA;\n",
              "      --hover-fill-color: #174EA6;\n",
              "      --disabled-fill-color: #AAA;\n",
              "      --disabled-bg-color: #DDD;\n",
              "  }\n",
              "\n",
              "  [theme=dark] .colab-df-quickchart {\n",
              "      --bg-color: #3B4455;\n",
              "      --fill-color: #D2E3FC;\n",
              "      --hover-bg-color: #434B5C;\n",
              "      --hover-fill-color: #FFFFFF;\n",
              "      --disabled-bg-color: #3B4455;\n",
              "      --disabled-fill-color: #666;\n",
              "  }\n",
              "\n",
              "  .colab-df-quickchart {\n",
              "    background-color: var(--bg-color);\n",
              "    border: none;\n",
              "    border-radius: 50%;\n",
              "    cursor: pointer;\n",
              "    display: none;\n",
              "    fill: var(--fill-color);\n",
              "    height: 32px;\n",
              "    padding: 0;\n",
              "    width: 32px;\n",
              "  }\n",
              "\n",
              "  .colab-df-quickchart:hover {\n",
              "    background-color: var(--hover-bg-color);\n",
              "    box-shadow: 0 1px 2px rgba(60, 64, 67, 0.3), 0 1px 3px 1px rgba(60, 64, 67, 0.15);\n",
              "    fill: var(--button-hover-fill-color);\n",
              "  }\n",
              "\n",
              "  .colab-df-quickchart-complete:disabled,\n",
              "  .colab-df-quickchart-complete:disabled:hover {\n",
              "    background-color: var(--disabled-bg-color);\n",
              "    fill: var(--disabled-fill-color);\n",
              "    box-shadow: none;\n",
              "  }\n",
              "\n",
              "  .colab-df-spinner {\n",
              "    border: 2px solid var(--fill-color);\n",
              "    border-color: transparent;\n",
              "    border-bottom-color: var(--fill-color);\n",
              "    animation:\n",
              "      spin 1s steps(1) infinite;\n",
              "  }\n",
              "\n",
              "  @keyframes spin {\n",
              "    0% {\n",
              "      border-color: transparent;\n",
              "      border-bottom-color: var(--fill-color);\n",
              "      border-left-color: var(--fill-color);\n",
              "    }\n",
              "    20% {\n",
              "      border-color: transparent;\n",
              "      border-left-color: var(--fill-color);\n",
              "      border-top-color: var(--fill-color);\n",
              "    }\n",
              "    30% {\n",
              "      border-color: transparent;\n",
              "      border-left-color: var(--fill-color);\n",
              "      border-top-color: var(--fill-color);\n",
              "      border-right-color: var(--fill-color);\n",
              "    }\n",
              "    40% {\n",
              "      border-color: transparent;\n",
              "      border-right-color: var(--fill-color);\n",
              "      border-top-color: var(--fill-color);\n",
              "    }\n",
              "    60% {\n",
              "      border-color: transparent;\n",
              "      border-right-color: var(--fill-color);\n",
              "    }\n",
              "    80% {\n",
              "      border-color: transparent;\n",
              "      border-right-color: var(--fill-color);\n",
              "      border-bottom-color: var(--fill-color);\n",
              "    }\n",
              "    90% {\n",
              "      border-color: transparent;\n",
              "      border-bottom-color: var(--fill-color);\n",
              "    }\n",
              "  }\n",
              "</style>\n",
              "\n",
              "      <script>\n",
              "        async function quickchart(key) {\n",
              "          const quickchartButtonEl =\n",
              "            document.querySelector('#' + key + ' button');\n",
              "          quickchartButtonEl.disabled = true;  // To prevent multiple clicks.\n",
              "          quickchartButtonEl.classList.add('colab-df-spinner');\n",
              "          try {\n",
              "            const charts = await google.colab.kernel.invokeFunction(\n",
              "                'suggestCharts', [key], {});\n",
              "          } catch (error) {\n",
              "            console.error('Error during call to suggestCharts:', error);\n",
              "          }\n",
              "          quickchartButtonEl.classList.remove('colab-df-spinner');\n",
              "          quickchartButtonEl.classList.add('colab-df-quickchart-complete');\n",
              "        }\n",
              "        (() => {\n",
              "          let quickchartButtonEl =\n",
              "            document.querySelector('#df-29bd4c46-f85b-41ab-b719-da881f584aab button');\n",
              "          quickchartButtonEl.style.display =\n",
              "            google.colab.kernel.accessAllowed ? 'block' : 'none';\n",
              "        })();\n",
              "      </script>\n",
              "    </div>\n",
              "\n",
              "    </div>\n",
              "  </div>\n"
            ],
            "application/vnd.google.colaboratory.intrinsic+json": {
              "type": "dataframe",
              "summary": "{\n  \"name\": \"df1\",\n  \"rows\": 6,\n  \"fields\": [\n    {\n      \"column\": \"funcionario\",\n      \"properties\": {\n        \"dtype\": \"string\",\n        \"num_unique_values\": 6,\n        \"samples\": [\n          \"ana\",\n          \"joao\",\n          \"felipe\"\n        ],\n        \"semantic_type\": \"\",\n        \"description\": \"\"\n      }\n    },\n    {\n      \"column\": \"funcao\",\n      \"properties\": {\n        \"dtype\": \"string\",\n        \"num_unique_values\": 5,\n        \"samples\": [\n          \"assistente\",\n          \"auxiliar\",\n          \"cordenadora\"\n        ],\n        \"semantic_type\": \"\",\n        \"description\": \"\"\n      }\n    },\n    {\n      \"column\": \"salario\",\n      \"properties\": {\n        \"dtype\": \"number\",\n        \"std\": 5818,\n        \"min\": 2500,\n        \"max\": 16000,\n        \"num_unique_values\": 6,\n        \"samples\": [\n          6200,\n          3100,\n          2500\n        ],\n        \"semantic_type\": \"\",\n        \"description\": \"\"\n      }\n    }\n  ]\n}"
            }
          },
          "metadata": {},
          "execution_count": 12
        }
      ]
    },
    {
      "cell_type": "code",
      "source": [
        "dados = (\n",
        "    (\"claudio\",\"analista\", 5800),\n",
        "    (\"beatriz\",\"assistente\", 3300)\n",
        ")"
      ],
      "metadata": {
        "id": "OCxwMJSqJgaR"
      },
      "execution_count": 14,
      "outputs": []
    },
    {
      "cell_type": "code",
      "source": [
        "df2 = spark.createDataFrame(dados,colunas)"
      ],
      "metadata": {
        "id": "8bBjI1WxKE9B"
      },
      "execution_count": 15,
      "outputs": []
    },
    {
      "cell_type": "code",
      "source": [
        "df2.show()"
      ],
      "metadata": {
        "colab": {
          "base_uri": "https://localhost:8080/"
        },
        "id": "y_IFoNqvKSHx",
        "outputId": "eed6e566-e6d4-42a9-be19-5f9c1d1af115"
      },
      "execution_count": 16,
      "outputs": [
        {
          "output_type": "stream",
          "name": "stdout",
          "text": [
            "+-----------+----------+-------+\n",
            "|funcionario|    funcao|salario|\n",
            "+-----------+----------+-------+\n",
            "|    claudio|  analista|   5800|\n",
            "|    beatriz|assistente|   3300|\n",
            "+-----------+----------+-------+\n",
            "\n"
          ]
        }
      ]
    },
    {
      "cell_type": "code",
      "source": [
        "df = df1.union(df2)"
      ],
      "metadata": {
        "id": "ArPVINgSKUwA"
      },
      "execution_count": 17,
      "outputs": []
    },
    {
      "cell_type": "code",
      "source": [
        "df.show()"
      ],
      "metadata": {
        "colab": {
          "base_uri": "https://localhost:8080/"
        },
        "id": "KnRVU3SJKcUR",
        "outputId": "59ade301-e7b5-4754-8044-c3c0a5f29a46"
      },
      "execution_count": 18,
      "outputs": [
        {
          "output_type": "stream",
          "name": "stdout",
          "text": [
            "+-----------+-----------+-------+\n",
            "|funcionario|     funcao|salario|\n",
            "+-----------+-----------+-------+\n",
            "|        ana|   analista|   6200|\n",
            "|       joao| assistente|   3100|\n",
            "|      julio|   analista|   7900|\n",
            "|      bruna|cordenadora|  16000|\n",
            "|      pedro|coordenador|  15000|\n",
            "|     felipe|   auxiliar|   2500|\n",
            "|    claudio|   analista|   5800|\n",
            "|    beatriz| assistente|   3300|\n",
            "+-----------+-----------+-------+\n",
            "\n"
          ]
        }
      ]
    },
    {
      "cell_type": "code",
      "source": [
        "# Exibir informações sobre os tipos de dados e nomes e colunas do dataframe:\n",
        "df.printSchema()"
      ],
      "metadata": {
        "colab": {
          "base_uri": "https://localhost:8080/"
        },
        "id": "8I8dge4dKgth",
        "outputId": "bc8ecc44-f50e-46e9-93e6-4e7694942b2f"
      },
      "execution_count": 19,
      "outputs": [
        {
          "output_type": "stream",
          "name": "stdout",
          "text": [
            "root\n",
            " |-- funcionario: string (nullable = true)\n",
            " |-- funcao: string (nullable = true)\n",
            " |-- salario: long (nullable = true)\n",
            "\n"
          ]
        }
      ]
    },
    {
      "cell_type": "code",
      "source": [
        "# Adicionando nova coluna no dataframe spark:\n",
        "# Metodo de visualização de uma nova coluna tabela view\n",
        "df.withColumn(\"cenario1\",\n",
        "              f.round(df.salario * 1.05, 2)).show()"
      ],
      "metadata": {
        "colab": {
          "base_uri": "https://localhost:8080/"
        },
        "id": "FpkS3MeAKyfh",
        "outputId": "e96b7479-6200-4fa3-8fad-4c46072bdd36"
      },
      "execution_count": 21,
      "outputs": [
        {
          "output_type": "stream",
          "name": "stdout",
          "text": [
            "+-----------+-----------+-------+--------+\n",
            "|funcionario|     funcao|salario|cenario1|\n",
            "+-----------+-----------+-------+--------+\n",
            "|        ana|   analista|   6200|  6510.0|\n",
            "|       joao| assistente|   3100|  3255.0|\n",
            "|      julio|   analista|   7900|  8295.0|\n",
            "|      bruna|cordenadora|  16000| 16800.0|\n",
            "|      pedro|coordenador|  15000| 15750.0|\n",
            "|     felipe|   auxiliar|   2500|  2625.0|\n",
            "|    claudio|   analista|   5800|  6090.0|\n",
            "|    beatriz| assistente|   3300|  3465.0|\n",
            "+-----------+-----------+-------+--------+\n",
            "\n"
          ]
        }
      ]
    },
    {
      "cell_type": "code",
      "source": [
        "# Efetivando a alteração do df\n",
        "df = df.withColumn(\"cenario1\",\n",
        "              f.round(df.salario * 1.05, 2))"
      ],
      "metadata": {
        "id": "tu9AokS2Lv5x"
      },
      "execution_count": 25,
      "outputs": []
    },
    {
      "cell_type": "code",
      "source": [
        "df.toPandas()"
      ],
      "metadata": {
        "colab": {
          "base_uri": "https://localhost:8080/",
          "height": 300
        },
        "id": "Y2ssS1XKM6qw",
        "outputId": "9da2116b-cfb1-4f8e-f04a-6edcfc0f5767"
      },
      "execution_count": 26,
      "outputs": [
        {
          "output_type": "execute_result",
          "data": {
            "text/plain": [
              "  funcionario       funcao  salario  cenario1\n",
              "0         ana     analista     6200    6510.0\n",
              "1        joao   assistente     3100    3255.0\n",
              "2       julio     analista     7900    8295.0\n",
              "3       bruna  cordenadora    16000   16800.0\n",
              "4       pedro  coordenador    15000   15750.0\n",
              "5      felipe     auxiliar     2500    2625.0\n",
              "6     claudio     analista     5800    6090.0\n",
              "7     beatriz   assistente     3300    3465.0"
            ],
            "text/html": [
              "\n",
              "  <div id=\"df-fac7bade-fe63-4aa6-aeb8-8cb888784d68\" class=\"colab-df-container\">\n",
              "    <div>\n",
              "<style scoped>\n",
              "    .dataframe tbody tr th:only-of-type {\n",
              "        vertical-align: middle;\n",
              "    }\n",
              "\n",
              "    .dataframe tbody tr th {\n",
              "        vertical-align: top;\n",
              "    }\n",
              "\n",
              "    .dataframe thead th {\n",
              "        text-align: right;\n",
              "    }\n",
              "</style>\n",
              "<table border=\"1\" class=\"dataframe\">\n",
              "  <thead>\n",
              "    <tr style=\"text-align: right;\">\n",
              "      <th></th>\n",
              "      <th>funcionario</th>\n",
              "      <th>funcao</th>\n",
              "      <th>salario</th>\n",
              "      <th>cenario1</th>\n",
              "    </tr>\n",
              "  </thead>\n",
              "  <tbody>\n",
              "    <tr>\n",
              "      <th>0</th>\n",
              "      <td>ana</td>\n",
              "      <td>analista</td>\n",
              "      <td>6200</td>\n",
              "      <td>6510.0</td>\n",
              "    </tr>\n",
              "    <tr>\n",
              "      <th>1</th>\n",
              "      <td>joao</td>\n",
              "      <td>assistente</td>\n",
              "      <td>3100</td>\n",
              "      <td>3255.0</td>\n",
              "    </tr>\n",
              "    <tr>\n",
              "      <th>2</th>\n",
              "      <td>julio</td>\n",
              "      <td>analista</td>\n",
              "      <td>7900</td>\n",
              "      <td>8295.0</td>\n",
              "    </tr>\n",
              "    <tr>\n",
              "      <th>3</th>\n",
              "      <td>bruna</td>\n",
              "      <td>cordenadora</td>\n",
              "      <td>16000</td>\n",
              "      <td>16800.0</td>\n",
              "    </tr>\n",
              "    <tr>\n",
              "      <th>4</th>\n",
              "      <td>pedro</td>\n",
              "      <td>coordenador</td>\n",
              "      <td>15000</td>\n",
              "      <td>15750.0</td>\n",
              "    </tr>\n",
              "    <tr>\n",
              "      <th>5</th>\n",
              "      <td>felipe</td>\n",
              "      <td>auxiliar</td>\n",
              "      <td>2500</td>\n",
              "      <td>2625.0</td>\n",
              "    </tr>\n",
              "    <tr>\n",
              "      <th>6</th>\n",
              "      <td>claudio</td>\n",
              "      <td>analista</td>\n",
              "      <td>5800</td>\n",
              "      <td>6090.0</td>\n",
              "    </tr>\n",
              "    <tr>\n",
              "      <th>7</th>\n",
              "      <td>beatriz</td>\n",
              "      <td>assistente</td>\n",
              "      <td>3300</td>\n",
              "      <td>3465.0</td>\n",
              "    </tr>\n",
              "  </tbody>\n",
              "</table>\n",
              "</div>\n",
              "    <div class=\"colab-df-buttons\">\n",
              "\n",
              "  <div class=\"colab-df-container\">\n",
              "    <button class=\"colab-df-convert\" onclick=\"convertToInteractive('df-fac7bade-fe63-4aa6-aeb8-8cb888784d68')\"\n",
              "            title=\"Convert this dataframe to an interactive table.\"\n",
              "            style=\"display:none;\">\n",
              "\n",
              "  <svg xmlns=\"http://www.w3.org/2000/svg\" height=\"24px\" viewBox=\"0 -960 960 960\">\n",
              "    <path d=\"M120-120v-720h720v720H120Zm60-500h600v-160H180v160Zm220 220h160v-160H400v160Zm0 220h160v-160H400v160ZM180-400h160v-160H180v160Zm440 0h160v-160H620v160ZM180-180h160v-160H180v160Zm440 0h160v-160H620v160Z\"/>\n",
              "  </svg>\n",
              "    </button>\n",
              "\n",
              "  <style>\n",
              "    .colab-df-container {\n",
              "      display:flex;\n",
              "      gap: 12px;\n",
              "    }\n",
              "\n",
              "    .colab-df-convert {\n",
              "      background-color: #E8F0FE;\n",
              "      border: none;\n",
              "      border-radius: 50%;\n",
              "      cursor: pointer;\n",
              "      display: none;\n",
              "      fill: #1967D2;\n",
              "      height: 32px;\n",
              "      padding: 0 0 0 0;\n",
              "      width: 32px;\n",
              "    }\n",
              "\n",
              "    .colab-df-convert:hover {\n",
              "      background-color: #E2EBFA;\n",
              "      box-shadow: 0px 1px 2px rgba(60, 64, 67, 0.3), 0px 1px 3px 1px rgba(60, 64, 67, 0.15);\n",
              "      fill: #174EA6;\n",
              "    }\n",
              "\n",
              "    .colab-df-buttons div {\n",
              "      margin-bottom: 4px;\n",
              "    }\n",
              "\n",
              "    [theme=dark] .colab-df-convert {\n",
              "      background-color: #3B4455;\n",
              "      fill: #D2E3FC;\n",
              "    }\n",
              "\n",
              "    [theme=dark] .colab-df-convert:hover {\n",
              "      background-color: #434B5C;\n",
              "      box-shadow: 0px 1px 3px 1px rgba(0, 0, 0, 0.15);\n",
              "      filter: drop-shadow(0px 1px 2px rgba(0, 0, 0, 0.3));\n",
              "      fill: #FFFFFF;\n",
              "    }\n",
              "  </style>\n",
              "\n",
              "    <script>\n",
              "      const buttonEl =\n",
              "        document.querySelector('#df-fac7bade-fe63-4aa6-aeb8-8cb888784d68 button.colab-df-convert');\n",
              "      buttonEl.style.display =\n",
              "        google.colab.kernel.accessAllowed ? 'block' : 'none';\n",
              "\n",
              "      async function convertToInteractive(key) {\n",
              "        const element = document.querySelector('#df-fac7bade-fe63-4aa6-aeb8-8cb888784d68');\n",
              "        const dataTable =\n",
              "          await google.colab.kernel.invokeFunction('convertToInteractive',\n",
              "                                                    [key], {});\n",
              "        if (!dataTable) return;\n",
              "\n",
              "        const docLinkHtml = 'Like what you see? Visit the ' +\n",
              "          '<a target=\"_blank\" href=https://colab.research.google.com/notebooks/data_table.ipynb>data table notebook</a>'\n",
              "          + ' to learn more about interactive tables.';\n",
              "        element.innerHTML = '';\n",
              "        dataTable['output_type'] = 'display_data';\n",
              "        await google.colab.output.renderOutput(dataTable, element);\n",
              "        const docLink = document.createElement('div');\n",
              "        docLink.innerHTML = docLinkHtml;\n",
              "        element.appendChild(docLink);\n",
              "      }\n",
              "    </script>\n",
              "  </div>\n",
              "\n",
              "\n",
              "    <div id=\"df-f977b7e9-9c5b-452d-895f-053a8f812a7c\">\n",
              "      <button class=\"colab-df-quickchart\" onclick=\"quickchart('df-f977b7e9-9c5b-452d-895f-053a8f812a7c')\"\n",
              "                title=\"Suggest charts\"\n",
              "                style=\"display:none;\">\n",
              "\n",
              "<svg xmlns=\"http://www.w3.org/2000/svg\" height=\"24px\"viewBox=\"0 0 24 24\"\n",
              "     width=\"24px\">\n",
              "    <g>\n",
              "        <path d=\"M19 3H5c-1.1 0-2 .9-2 2v14c0 1.1.9 2 2 2h14c1.1 0 2-.9 2-2V5c0-1.1-.9-2-2-2zM9 17H7v-7h2v7zm4 0h-2V7h2v10zm4 0h-2v-4h2v4z\"/>\n",
              "    </g>\n",
              "</svg>\n",
              "      </button>\n",
              "\n",
              "<style>\n",
              "  .colab-df-quickchart {\n",
              "      --bg-color: #E8F0FE;\n",
              "      --fill-color: #1967D2;\n",
              "      --hover-bg-color: #E2EBFA;\n",
              "      --hover-fill-color: #174EA6;\n",
              "      --disabled-fill-color: #AAA;\n",
              "      --disabled-bg-color: #DDD;\n",
              "  }\n",
              "\n",
              "  [theme=dark] .colab-df-quickchart {\n",
              "      --bg-color: #3B4455;\n",
              "      --fill-color: #D2E3FC;\n",
              "      --hover-bg-color: #434B5C;\n",
              "      --hover-fill-color: #FFFFFF;\n",
              "      --disabled-bg-color: #3B4455;\n",
              "      --disabled-fill-color: #666;\n",
              "  }\n",
              "\n",
              "  .colab-df-quickchart {\n",
              "    background-color: var(--bg-color);\n",
              "    border: none;\n",
              "    border-radius: 50%;\n",
              "    cursor: pointer;\n",
              "    display: none;\n",
              "    fill: var(--fill-color);\n",
              "    height: 32px;\n",
              "    padding: 0;\n",
              "    width: 32px;\n",
              "  }\n",
              "\n",
              "  .colab-df-quickchart:hover {\n",
              "    background-color: var(--hover-bg-color);\n",
              "    box-shadow: 0 1px 2px rgba(60, 64, 67, 0.3), 0 1px 3px 1px rgba(60, 64, 67, 0.15);\n",
              "    fill: var(--button-hover-fill-color);\n",
              "  }\n",
              "\n",
              "  .colab-df-quickchart-complete:disabled,\n",
              "  .colab-df-quickchart-complete:disabled:hover {\n",
              "    background-color: var(--disabled-bg-color);\n",
              "    fill: var(--disabled-fill-color);\n",
              "    box-shadow: none;\n",
              "  }\n",
              "\n",
              "  .colab-df-spinner {\n",
              "    border: 2px solid var(--fill-color);\n",
              "    border-color: transparent;\n",
              "    border-bottom-color: var(--fill-color);\n",
              "    animation:\n",
              "      spin 1s steps(1) infinite;\n",
              "  }\n",
              "\n",
              "  @keyframes spin {\n",
              "    0% {\n",
              "      border-color: transparent;\n",
              "      border-bottom-color: var(--fill-color);\n",
              "      border-left-color: var(--fill-color);\n",
              "    }\n",
              "    20% {\n",
              "      border-color: transparent;\n",
              "      border-left-color: var(--fill-color);\n",
              "      border-top-color: var(--fill-color);\n",
              "    }\n",
              "    30% {\n",
              "      border-color: transparent;\n",
              "      border-left-color: var(--fill-color);\n",
              "      border-top-color: var(--fill-color);\n",
              "      border-right-color: var(--fill-color);\n",
              "    }\n",
              "    40% {\n",
              "      border-color: transparent;\n",
              "      border-right-color: var(--fill-color);\n",
              "      border-top-color: var(--fill-color);\n",
              "    }\n",
              "    60% {\n",
              "      border-color: transparent;\n",
              "      border-right-color: var(--fill-color);\n",
              "    }\n",
              "    80% {\n",
              "      border-color: transparent;\n",
              "      border-right-color: var(--fill-color);\n",
              "      border-bottom-color: var(--fill-color);\n",
              "    }\n",
              "    90% {\n",
              "      border-color: transparent;\n",
              "      border-bottom-color: var(--fill-color);\n",
              "    }\n",
              "  }\n",
              "</style>\n",
              "\n",
              "      <script>\n",
              "        async function quickchart(key) {\n",
              "          const quickchartButtonEl =\n",
              "            document.querySelector('#' + key + ' button');\n",
              "          quickchartButtonEl.disabled = true;  // To prevent multiple clicks.\n",
              "          quickchartButtonEl.classList.add('colab-df-spinner');\n",
              "          try {\n",
              "            const charts = await google.colab.kernel.invokeFunction(\n",
              "                'suggestCharts', [key], {});\n",
              "          } catch (error) {\n",
              "            console.error('Error during call to suggestCharts:', error);\n",
              "          }\n",
              "          quickchartButtonEl.classList.remove('colab-df-spinner');\n",
              "          quickchartButtonEl.classList.add('colab-df-quickchart-complete');\n",
              "        }\n",
              "        (() => {\n",
              "          let quickchartButtonEl =\n",
              "            document.querySelector('#df-f977b7e9-9c5b-452d-895f-053a8f812a7c button');\n",
              "          quickchartButtonEl.style.display =\n",
              "            google.colab.kernel.accessAllowed ? 'block' : 'none';\n",
              "        })();\n",
              "      </script>\n",
              "    </div>\n",
              "\n",
              "    </div>\n",
              "  </div>\n"
            ],
            "application/vnd.google.colaboratory.intrinsic+json": {
              "type": "dataframe",
              "summary": "{\n  \"name\": \"df\",\n  \"rows\": 8,\n  \"fields\": [\n    {\n      \"column\": \"funcionario\",\n      \"properties\": {\n        \"dtype\": \"string\",\n        \"num_unique_values\": 8,\n        \"samples\": [\n          \"joao\",\n          \"felipe\",\n          \"ana\"\n        ],\n        \"semantic_type\": \"\",\n        \"description\": \"\"\n      }\n    },\n    {\n      \"column\": \"funcao\",\n      \"properties\": {\n        \"dtype\": \"string\",\n        \"num_unique_values\": 5,\n        \"samples\": [\n          \"assistente\",\n          \"auxiliar\",\n          \"cordenadora\"\n        ],\n        \"semantic_type\": \"\",\n        \"description\": \"\"\n      }\n    },\n    {\n      \"column\": \"salario\",\n      \"properties\": {\n        \"dtype\": \"number\",\n        \"std\": 5281,\n        \"min\": 2500,\n        \"max\": 16000,\n        \"num_unique_values\": 8,\n        \"samples\": [\n          3100,\n          2500,\n          6200\n        ],\n        \"semantic_type\": \"\",\n        \"description\": \"\"\n      }\n    },\n    {\n      \"column\": \"cenario1\",\n      \"properties\": {\n        \"dtype\": \"number\",\n        \"std\": 5545.2242966358,\n        \"min\": 2625.0,\n        \"max\": 16800.0,\n        \"num_unique_values\": 8,\n        \"samples\": [\n          3255.0,\n          2625.0,\n          6510.0\n        ],\n        \"semantic_type\": \"\",\n        \"description\": \"\"\n      }\n    }\n  ]\n}"
            }
          },
          "metadata": {},
          "execution_count": 26
        }
      ]
    },
    {
      "cell_type": "code",
      "source": [
        "# Criando coluna condicional\n",
        "# No novo cenário será aplicado um reajuste de 7% para quem ganha\n",
        "# ate 5000.  Para outros salários será o reajuste padrão de 5%\n",
        "\n",
        "df.withColumn(\"cenario2\",\n",
        "              f.when(df.salario <= 5000, df.salario * 1.07)\\\n",
        "              .otherwise(df.salario *1.05)).show()"
      ],
      "metadata": {
        "colab": {
          "base_uri": "https://localhost:8080/"
        },
        "id": "CByUPpK7M8Og",
        "outputId": "fdfb94a7-6be2-4d92-8d79-4e071466d790"
      },
      "execution_count": 28,
      "outputs": [
        {
          "output_type": "stream",
          "name": "stdout",
          "text": [
            "+-----------+-----------+-------+--------+--------+\n",
            "|funcionario|     funcao|salario|cenario1|cenario2|\n",
            "+-----------+-----------+-------+--------+--------+\n",
            "|        ana|   analista|   6200|  6510.0|  6510.0|\n",
            "|       joao| assistente|   3100|  3255.0|  3317.0|\n",
            "|      julio|   analista|   7900|  8295.0|  8295.0|\n",
            "|      bruna|cordenadora|  16000| 16800.0| 16800.0|\n",
            "|      pedro|coordenador|  15000| 15750.0| 15750.0|\n",
            "|     felipe|   auxiliar|   2500|  2625.0|  2675.0|\n",
            "|    claudio|   analista|   5800|  6090.0|  6090.0|\n",
            "|    beatriz| assistente|   3300|  3465.0|  3531.0|\n",
            "+-----------+-----------+-------+--------+--------+\n",
            "\n"
          ]
        }
      ]
    },
    {
      "cell_type": "code",
      "source": [
        "# Efetivando alterção\n",
        "df = df.withColumn(\"cenario2\",\n",
        "              f.when(df.salario <= 5000, df.salario * 1.07)\\\n",
        "              .otherwise(df.salario *1.05))"
      ],
      "metadata": {
        "id": "SwjgSacwOTNi"
      },
      "execution_count": 29,
      "outputs": []
    },
    {
      "cell_type": "code",
      "source": [
        "df.toPandas()"
      ],
      "metadata": {
        "id": "8rhHcpxpOwmS"
      },
      "execution_count": null,
      "outputs": []
    },
    {
      "cell_type": "code",
      "source": [
        "# Filtrando dados:\n",
        "df.where(\"salario >= 7000\").show()"
      ],
      "metadata": {
        "colab": {
          "base_uri": "https://localhost:8080/"
        },
        "id": "MwSLC-4IUHTZ",
        "outputId": "e5e92e93-32f5-4f3a-a273-7d101015c808"
      },
      "execution_count": 32,
      "outputs": [
        {
          "output_type": "stream",
          "name": "stdout",
          "text": [
            "+-----------+-----------+-------+--------+--------+\n",
            "|funcionario|     funcao|salario|cenario1|cenario2|\n",
            "+-----------+-----------+-------+--------+--------+\n",
            "|      julio|   analista|   7900|  8295.0|  8295.0|\n",
            "|      bruna|cordenadora|  16000| 16800.0| 16800.0|\n",
            "|      pedro|coordenador|  15000| 15750.0| 15750.0|\n",
            "+-----------+-----------+-------+--------+--------+\n",
            "\n"
          ]
        }
      ]
    },
    {
      "cell_type": "code",
      "source": [
        "df.where(\"funcao like '%coord%'\").show()"
      ],
      "metadata": {
        "colab": {
          "base_uri": "https://localhost:8080/"
        },
        "id": "A3pQcp3rUP1f",
        "outputId": "099754ee-de26-4e83-b3bb-ab2e64c2d072"
      },
      "execution_count": 33,
      "outputs": [
        {
          "output_type": "stream",
          "name": "stdout",
          "text": [
            "+-----------+-----------+-------+--------+--------+\n",
            "|funcionario|     funcao|salario|cenario1|cenario2|\n",
            "+-----------+-----------+-------+--------+--------+\n",
            "|      pedro|coordenador|  15000| 15750.0| 15750.0|\n",
            "+-----------+-----------+-------+--------+--------+\n",
            "\n"
          ]
        }
      ]
    },
    {
      "cell_type": "code",
      "source": [
        "# Importando dataframe .csv\n",
        "# inferSchema: sobe o dados das variaveis certas\n",
        "url = \"/content/drive/MyDrive/BasesPark/empresas/part*\"\n",
        "empresas = spark.read.csv(\n",
        "    url,\n",
        "    sep=\";\",\n",
        "    header=True,\n",
        "    inferSchema=True,\n",
        "    encoding=\"latin1\"\n",
        "\n",
        ")"
      ],
      "metadata": {
        "id": "QmnVmquuUfPP"
      },
      "execution_count": 34,
      "outputs": []
    },
    {
      "cell_type": "code",
      "source": [
        "empresas.show()"
      ],
      "metadata": {
        "colab": {
          "base_uri": "https://localhost:8080/"
        },
        "id": "-ueMkn0VX2HP",
        "outputId": "db3c7314-6754-434b-e73e-616752c542ce"
      },
      "execution_count": 35,
      "outputs": [
        {
          "output_type": "stream",
          "name": "stdout",
          "text": [
            "+-----+--------------------+-----------------+------------------------+--------------+-----+---------------+\n",
            "| cnpj|        razao_social|natureza_juridica|qualificacao_responsavel|capital_social|porte|ente_federativo|\n",
            "+-----+--------------------+-----------------+------------------------+--------------+-----+---------------+\n",
            "|  306|FRANCAMAR REFRIGE...|             2240|                      49|          0,00|    1|           NULL|\n",
            "| 1355|BRASILEIRO & OLIV...|             2062|                      49|          0,00|    5|           NULL|\n",
            "| 4820|REGISTRO DE IMOVE...|             3034|                      32|          0,00|    5|           NULL|\n",
            "| 5347|ROSELY APARECIDA ...|             2135|                      50|          0,00|    5|           NULL|\n",
            "| 6846|BADU E FILHOS TEC...|             2062|                      49|       4000,00|    1|           NULL|\n",
            "| 8416|  ELETRICA RUBI LTDA|             2062|                      49|          0,00|    5|           NULL|\n",
            "| 8992|SHIROMA VEICULOS ...|             2062|                      49|          0,00|    5|           NULL|\n",
            "| 9091|CONTATOS BAR E LA...|             2062|                      49|          0,00|    5|           NULL|\n",
            "| 9614|ANTONIA APARECIDA...|             2135|                      50|          0,00|    5|           NULL|\n",
            "| 9896|DORACY CORAT DA C...|             2135|                      50|          0,00|    5|           NULL|\n",
            "|12112|LANCHONETE RIO VE...|             2062|                      49|          0,00|    5|           NULL|\n",
            "|12605|VALMAR JACAREI CO...|             2062|                      49|          0,00|    5|           NULL|\n",
            "|13407|ROSANA CRISTINA D...|             2135|                      50|          0,00|    5|           NULL|\n",
            "|13408|CELIO RODRIGUES D...|             2135|                      50|          0,00|    5|           NULL|\n",
            "|13721|MAQFRAN COMERCIO ...|             2062|                      49|          0,00|    1|           NULL|\n",
            "|21181|MOURA & SILVA MER...|             2062|                      49|          0,00|    5|           NULL|\n",
            "|21858|PAMARATI COMERCIO...|             2135|                      50|          0,00|    1|           NULL|\n",
            "|22277|INACIO RODRIGUES ...|             2135|                      50|          0,00|    5|           NULL|\n",
            "|24205|SUELY LEME MARI A...|             2135|                      50|       1000,00|    1|           NULL|\n",
            "|26805|SUELI BATISTA DA ...|             2135|                      50|          0,00|    5|           NULL|\n",
            "+-----+--------------------+-----------------+------------------------+--------------+-----+---------------+\n",
            "only showing top 20 rows\n",
            "\n"
          ]
        }
      ]
    },
    {
      "cell_type": "code",
      "source": [
        "empresas.printSchema()"
      ],
      "metadata": {
        "colab": {
          "base_uri": "https://localhost:8080/"
        },
        "id": "eK0UC-gFYFfu",
        "outputId": "6b0c7d64-2a58-4f48-f6d5-b21709821bcc"
      },
      "execution_count": 36,
      "outputs": [
        {
          "output_type": "stream",
          "name": "stdout",
          "text": [
            "root\n",
            " |-- cnpj: integer (nullable = true)\n",
            " |-- razao_social: string (nullable = true)\n",
            " |-- natureza_juridica: integer (nullable = true)\n",
            " |-- qualificacao_responsavel: integer (nullable = true)\n",
            " |-- capital_social: string (nullable = true)\n",
            " |-- porte: integer (nullable = true)\n",
            " |-- ente_federativo: string (nullable = true)\n",
            "\n"
          ]
        }
      ]
    },
    {
      "cell_type": "code",
      "source": [
        "# Usando o toPandas() com muitas linhas\n",
        "empresas.limit(20).toPandas()"
      ],
      "metadata": {
        "colab": {
          "base_uri": "https://localhost:8080/",
          "height": 676
        },
        "id": "DzvrK_OlYSz-",
        "outputId": "5c9975fe-8db3-452d-93ea-4a09aeb0878c"
      },
      "execution_count": 37,
      "outputs": [
        {
          "output_type": "execute_result",
          "data": {
            "text/plain": [
              "     cnpj                                       razao_social  \\\n",
              "0     306            FRANCAMAR REFRIGERACAO TECNICA S/C LTDA   \n",
              "1    1355                         BRASILEIRO & OLIVEIRA LTDA   \n",
              "2    4820  REGISTRO DE IMOVEIS, TABELIONATO 1 DE NOTAS E ...   \n",
              "3    5347       ROSELY APARECIDA MONTEIRO CALTABIANO FREITAS   \n",
              "4    6846                         BADU E FILHOS TECIDOS LTDA   \n",
              "5    8416                                 ELETRICA RUBI LTDA   \n",
              "6    8992                             SHIROMA VEICULOS LTDA.   \n",
              "7    9091                     CONTATOS BAR E LANCHONETE LTDA   \n",
              "8    9614                  ANTONIA APARECIDA DE SOUZA ULIANA   \n",
              "9    9896                              DORACY CORAT DA COSTA   \n",
              "10  12112                       LANCHONETE RIO VERMELHO LTDA   \n",
              "11  12605  VALMAR JACAREI COMERCIO DE PRODUTOS ALIMENTIC ...   \n",
              "12  13407       ROSANA CRISTINA DUARTE RODRIGUES SERRALHERIA   \n",
              "13  13408      CELIO RODRIGUES DE MORAES DEPOSITO DE BANANAS   \n",
              "14  13721                     MAQFRAN COMERCIO DE PECAS LTDA   \n",
              "15  21181                   MOURA & SILVA MERCEARIA LIMITADA   \n",
              "16  21858                   PAMARATI COMERCIO DE RACOES LTDA   \n",
              "17  22277                     INACIO RODRIGUES DO NASCIMENTO   \n",
              "18  24205                    SUELY LEME MARI ANI 25086572800   \n",
              "19  26805                       SUELI BATISTA DA COSTA SILVA   \n",
              "\n",
              "    natureza_juridica  qualificacao_responsavel capital_social  porte  \\\n",
              "0                2240                        49           0,00      1   \n",
              "1                2062                        49           0,00      5   \n",
              "2                3034                        32           0,00      5   \n",
              "3                2135                        50           0,00      5   \n",
              "4                2062                        49        4000,00      1   \n",
              "5                2062                        49           0,00      5   \n",
              "6                2062                        49           0,00      5   \n",
              "7                2062                        49           0,00      5   \n",
              "8                2135                        50           0,00      5   \n",
              "9                2135                        50           0,00      5   \n",
              "10               2062                        49           0,00      5   \n",
              "11               2062                        49           0,00      5   \n",
              "12               2135                        50           0,00      5   \n",
              "13               2135                        50           0,00      5   \n",
              "14               2062                        49           0,00      1   \n",
              "15               2062                        49           0,00      5   \n",
              "16               2135                        50           0,00      1   \n",
              "17               2135                        50           0,00      5   \n",
              "18               2135                        50        1000,00      1   \n",
              "19               2135                        50           0,00      5   \n",
              "\n",
              "   ente_federativo  \n",
              "0             None  \n",
              "1             None  \n",
              "2             None  \n",
              "3             None  \n",
              "4             None  \n",
              "5             None  \n",
              "6             None  \n",
              "7             None  \n",
              "8             None  \n",
              "9             None  \n",
              "10            None  \n",
              "11            None  \n",
              "12            None  \n",
              "13            None  \n",
              "14            None  \n",
              "15            None  \n",
              "16            None  \n",
              "17            None  \n",
              "18            None  \n",
              "19            None  "
            ],
            "text/html": [
              "\n",
              "  <div id=\"df-32ba2054-c329-4726-b09c-75afeb875709\" class=\"colab-df-container\">\n",
              "    <div>\n",
              "<style scoped>\n",
              "    .dataframe tbody tr th:only-of-type {\n",
              "        vertical-align: middle;\n",
              "    }\n",
              "\n",
              "    .dataframe tbody tr th {\n",
              "        vertical-align: top;\n",
              "    }\n",
              "\n",
              "    .dataframe thead th {\n",
              "        text-align: right;\n",
              "    }\n",
              "</style>\n",
              "<table border=\"1\" class=\"dataframe\">\n",
              "  <thead>\n",
              "    <tr style=\"text-align: right;\">\n",
              "      <th></th>\n",
              "      <th>cnpj</th>\n",
              "      <th>razao_social</th>\n",
              "      <th>natureza_juridica</th>\n",
              "      <th>qualificacao_responsavel</th>\n",
              "      <th>capital_social</th>\n",
              "      <th>porte</th>\n",
              "      <th>ente_federativo</th>\n",
              "    </tr>\n",
              "  </thead>\n",
              "  <tbody>\n",
              "    <tr>\n",
              "      <th>0</th>\n",
              "      <td>306</td>\n",
              "      <td>FRANCAMAR REFRIGERACAO TECNICA S/C LTDA</td>\n",
              "      <td>2240</td>\n",
              "      <td>49</td>\n",
              "      <td>0,00</td>\n",
              "      <td>1</td>\n",
              "      <td>None</td>\n",
              "    </tr>\n",
              "    <tr>\n",
              "      <th>1</th>\n",
              "      <td>1355</td>\n",
              "      <td>BRASILEIRO &amp; OLIVEIRA LTDA</td>\n",
              "      <td>2062</td>\n",
              "      <td>49</td>\n",
              "      <td>0,00</td>\n",
              "      <td>5</td>\n",
              "      <td>None</td>\n",
              "    </tr>\n",
              "    <tr>\n",
              "      <th>2</th>\n",
              "      <td>4820</td>\n",
              "      <td>REGISTRO DE IMOVEIS, TABELIONATO 1 DE NOTAS E ...</td>\n",
              "      <td>3034</td>\n",
              "      <td>32</td>\n",
              "      <td>0,00</td>\n",
              "      <td>5</td>\n",
              "      <td>None</td>\n",
              "    </tr>\n",
              "    <tr>\n",
              "      <th>3</th>\n",
              "      <td>5347</td>\n",
              "      <td>ROSELY APARECIDA MONTEIRO CALTABIANO FREITAS</td>\n",
              "      <td>2135</td>\n",
              "      <td>50</td>\n",
              "      <td>0,00</td>\n",
              "      <td>5</td>\n",
              "      <td>None</td>\n",
              "    </tr>\n",
              "    <tr>\n",
              "      <th>4</th>\n",
              "      <td>6846</td>\n",
              "      <td>BADU E FILHOS TECIDOS LTDA</td>\n",
              "      <td>2062</td>\n",
              "      <td>49</td>\n",
              "      <td>4000,00</td>\n",
              "      <td>1</td>\n",
              "      <td>None</td>\n",
              "    </tr>\n",
              "    <tr>\n",
              "      <th>5</th>\n",
              "      <td>8416</td>\n",
              "      <td>ELETRICA RUBI LTDA</td>\n",
              "      <td>2062</td>\n",
              "      <td>49</td>\n",
              "      <td>0,00</td>\n",
              "      <td>5</td>\n",
              "      <td>None</td>\n",
              "    </tr>\n",
              "    <tr>\n",
              "      <th>6</th>\n",
              "      <td>8992</td>\n",
              "      <td>SHIROMA VEICULOS LTDA.</td>\n",
              "      <td>2062</td>\n",
              "      <td>49</td>\n",
              "      <td>0,00</td>\n",
              "      <td>5</td>\n",
              "      <td>None</td>\n",
              "    </tr>\n",
              "    <tr>\n",
              "      <th>7</th>\n",
              "      <td>9091</td>\n",
              "      <td>CONTATOS BAR E LANCHONETE LTDA</td>\n",
              "      <td>2062</td>\n",
              "      <td>49</td>\n",
              "      <td>0,00</td>\n",
              "      <td>5</td>\n",
              "      <td>None</td>\n",
              "    </tr>\n",
              "    <tr>\n",
              "      <th>8</th>\n",
              "      <td>9614</td>\n",
              "      <td>ANTONIA APARECIDA DE SOUZA ULIANA</td>\n",
              "      <td>2135</td>\n",
              "      <td>50</td>\n",
              "      <td>0,00</td>\n",
              "      <td>5</td>\n",
              "      <td>None</td>\n",
              "    </tr>\n",
              "    <tr>\n",
              "      <th>9</th>\n",
              "      <td>9896</td>\n",
              "      <td>DORACY CORAT DA COSTA</td>\n",
              "      <td>2135</td>\n",
              "      <td>50</td>\n",
              "      <td>0,00</td>\n",
              "      <td>5</td>\n",
              "      <td>None</td>\n",
              "    </tr>\n",
              "    <tr>\n",
              "      <th>10</th>\n",
              "      <td>12112</td>\n",
              "      <td>LANCHONETE RIO VERMELHO LTDA</td>\n",
              "      <td>2062</td>\n",
              "      <td>49</td>\n",
              "      <td>0,00</td>\n",
              "      <td>5</td>\n",
              "      <td>None</td>\n",
              "    </tr>\n",
              "    <tr>\n",
              "      <th>11</th>\n",
              "      <td>12605</td>\n",
              "      <td>VALMAR JACAREI COMERCIO DE PRODUTOS ALIMENTIC ...</td>\n",
              "      <td>2062</td>\n",
              "      <td>49</td>\n",
              "      <td>0,00</td>\n",
              "      <td>5</td>\n",
              "      <td>None</td>\n",
              "    </tr>\n",
              "    <tr>\n",
              "      <th>12</th>\n",
              "      <td>13407</td>\n",
              "      <td>ROSANA CRISTINA DUARTE RODRIGUES SERRALHERIA</td>\n",
              "      <td>2135</td>\n",
              "      <td>50</td>\n",
              "      <td>0,00</td>\n",
              "      <td>5</td>\n",
              "      <td>None</td>\n",
              "    </tr>\n",
              "    <tr>\n",
              "      <th>13</th>\n",
              "      <td>13408</td>\n",
              "      <td>CELIO RODRIGUES DE MORAES DEPOSITO DE BANANAS</td>\n",
              "      <td>2135</td>\n",
              "      <td>50</td>\n",
              "      <td>0,00</td>\n",
              "      <td>5</td>\n",
              "      <td>None</td>\n",
              "    </tr>\n",
              "    <tr>\n",
              "      <th>14</th>\n",
              "      <td>13721</td>\n",
              "      <td>MAQFRAN COMERCIO DE PECAS LTDA</td>\n",
              "      <td>2062</td>\n",
              "      <td>49</td>\n",
              "      <td>0,00</td>\n",
              "      <td>1</td>\n",
              "      <td>None</td>\n",
              "    </tr>\n",
              "    <tr>\n",
              "      <th>15</th>\n",
              "      <td>21181</td>\n",
              "      <td>MOURA &amp; SILVA MERCEARIA LIMITADA</td>\n",
              "      <td>2062</td>\n",
              "      <td>49</td>\n",
              "      <td>0,00</td>\n",
              "      <td>5</td>\n",
              "      <td>None</td>\n",
              "    </tr>\n",
              "    <tr>\n",
              "      <th>16</th>\n",
              "      <td>21858</td>\n",
              "      <td>PAMARATI COMERCIO DE RACOES LTDA</td>\n",
              "      <td>2135</td>\n",
              "      <td>50</td>\n",
              "      <td>0,00</td>\n",
              "      <td>1</td>\n",
              "      <td>None</td>\n",
              "    </tr>\n",
              "    <tr>\n",
              "      <th>17</th>\n",
              "      <td>22277</td>\n",
              "      <td>INACIO RODRIGUES DO NASCIMENTO</td>\n",
              "      <td>2135</td>\n",
              "      <td>50</td>\n",
              "      <td>0,00</td>\n",
              "      <td>5</td>\n",
              "      <td>None</td>\n",
              "    </tr>\n",
              "    <tr>\n",
              "      <th>18</th>\n",
              "      <td>24205</td>\n",
              "      <td>SUELY LEME MARI ANI 25086572800</td>\n",
              "      <td>2135</td>\n",
              "      <td>50</td>\n",
              "      <td>1000,00</td>\n",
              "      <td>1</td>\n",
              "      <td>None</td>\n",
              "    </tr>\n",
              "    <tr>\n",
              "      <th>19</th>\n",
              "      <td>26805</td>\n",
              "      <td>SUELI BATISTA DA COSTA SILVA</td>\n",
              "      <td>2135</td>\n",
              "      <td>50</td>\n",
              "      <td>0,00</td>\n",
              "      <td>5</td>\n",
              "      <td>None</td>\n",
              "    </tr>\n",
              "  </tbody>\n",
              "</table>\n",
              "</div>\n",
              "    <div class=\"colab-df-buttons\">\n",
              "\n",
              "  <div class=\"colab-df-container\">\n",
              "    <button class=\"colab-df-convert\" onclick=\"convertToInteractive('df-32ba2054-c329-4726-b09c-75afeb875709')\"\n",
              "            title=\"Convert this dataframe to an interactive table.\"\n",
              "            style=\"display:none;\">\n",
              "\n",
              "  <svg xmlns=\"http://www.w3.org/2000/svg\" height=\"24px\" viewBox=\"0 -960 960 960\">\n",
              "    <path d=\"M120-120v-720h720v720H120Zm60-500h600v-160H180v160Zm220 220h160v-160H400v160Zm0 220h160v-160H400v160ZM180-400h160v-160H180v160Zm440 0h160v-160H620v160ZM180-180h160v-160H180v160Zm440 0h160v-160H620v160Z\"/>\n",
              "  </svg>\n",
              "    </button>\n",
              "\n",
              "  <style>\n",
              "    .colab-df-container {\n",
              "      display:flex;\n",
              "      gap: 12px;\n",
              "    }\n",
              "\n",
              "    .colab-df-convert {\n",
              "      background-color: #E8F0FE;\n",
              "      border: none;\n",
              "      border-radius: 50%;\n",
              "      cursor: pointer;\n",
              "      display: none;\n",
              "      fill: #1967D2;\n",
              "      height: 32px;\n",
              "      padding: 0 0 0 0;\n",
              "      width: 32px;\n",
              "    }\n",
              "\n",
              "    .colab-df-convert:hover {\n",
              "      background-color: #E2EBFA;\n",
              "      box-shadow: 0px 1px 2px rgba(60, 64, 67, 0.3), 0px 1px 3px 1px rgba(60, 64, 67, 0.15);\n",
              "      fill: #174EA6;\n",
              "    }\n",
              "\n",
              "    .colab-df-buttons div {\n",
              "      margin-bottom: 4px;\n",
              "    }\n",
              "\n",
              "    [theme=dark] .colab-df-convert {\n",
              "      background-color: #3B4455;\n",
              "      fill: #D2E3FC;\n",
              "    }\n",
              "\n",
              "    [theme=dark] .colab-df-convert:hover {\n",
              "      background-color: #434B5C;\n",
              "      box-shadow: 0px 1px 3px 1px rgba(0, 0, 0, 0.15);\n",
              "      filter: drop-shadow(0px 1px 2px rgba(0, 0, 0, 0.3));\n",
              "      fill: #FFFFFF;\n",
              "    }\n",
              "  </style>\n",
              "\n",
              "    <script>\n",
              "      const buttonEl =\n",
              "        document.querySelector('#df-32ba2054-c329-4726-b09c-75afeb875709 button.colab-df-convert');\n",
              "      buttonEl.style.display =\n",
              "        google.colab.kernel.accessAllowed ? 'block' : 'none';\n",
              "\n",
              "      async function convertToInteractive(key) {\n",
              "        const element = document.querySelector('#df-32ba2054-c329-4726-b09c-75afeb875709');\n",
              "        const dataTable =\n",
              "          await google.colab.kernel.invokeFunction('convertToInteractive',\n",
              "                                                    [key], {});\n",
              "        if (!dataTable) return;\n",
              "\n",
              "        const docLinkHtml = 'Like what you see? Visit the ' +\n",
              "          '<a target=\"_blank\" href=https://colab.research.google.com/notebooks/data_table.ipynb>data table notebook</a>'\n",
              "          + ' to learn more about interactive tables.';\n",
              "        element.innerHTML = '';\n",
              "        dataTable['output_type'] = 'display_data';\n",
              "        await google.colab.output.renderOutput(dataTable, element);\n",
              "        const docLink = document.createElement('div');\n",
              "        docLink.innerHTML = docLinkHtml;\n",
              "        element.appendChild(docLink);\n",
              "      }\n",
              "    </script>\n",
              "  </div>\n",
              "\n",
              "\n",
              "    <div id=\"df-f5ca9c1c-2897-4596-af17-99242d4911fd\">\n",
              "      <button class=\"colab-df-quickchart\" onclick=\"quickchart('df-f5ca9c1c-2897-4596-af17-99242d4911fd')\"\n",
              "                title=\"Suggest charts\"\n",
              "                style=\"display:none;\">\n",
              "\n",
              "<svg xmlns=\"http://www.w3.org/2000/svg\" height=\"24px\"viewBox=\"0 0 24 24\"\n",
              "     width=\"24px\">\n",
              "    <g>\n",
              "        <path d=\"M19 3H5c-1.1 0-2 .9-2 2v14c0 1.1.9 2 2 2h14c1.1 0 2-.9 2-2V5c0-1.1-.9-2-2-2zM9 17H7v-7h2v7zm4 0h-2V7h2v10zm4 0h-2v-4h2v4z\"/>\n",
              "    </g>\n",
              "</svg>\n",
              "      </button>\n",
              "\n",
              "<style>\n",
              "  .colab-df-quickchart {\n",
              "      --bg-color: #E8F0FE;\n",
              "      --fill-color: #1967D2;\n",
              "      --hover-bg-color: #E2EBFA;\n",
              "      --hover-fill-color: #174EA6;\n",
              "      --disabled-fill-color: #AAA;\n",
              "      --disabled-bg-color: #DDD;\n",
              "  }\n",
              "\n",
              "  [theme=dark] .colab-df-quickchart {\n",
              "      --bg-color: #3B4455;\n",
              "      --fill-color: #D2E3FC;\n",
              "      --hover-bg-color: #434B5C;\n",
              "      --hover-fill-color: #FFFFFF;\n",
              "      --disabled-bg-color: #3B4455;\n",
              "      --disabled-fill-color: #666;\n",
              "  }\n",
              "\n",
              "  .colab-df-quickchart {\n",
              "    background-color: var(--bg-color);\n",
              "    border: none;\n",
              "    border-radius: 50%;\n",
              "    cursor: pointer;\n",
              "    display: none;\n",
              "    fill: var(--fill-color);\n",
              "    height: 32px;\n",
              "    padding: 0;\n",
              "    width: 32px;\n",
              "  }\n",
              "\n",
              "  .colab-df-quickchart:hover {\n",
              "    background-color: var(--hover-bg-color);\n",
              "    box-shadow: 0 1px 2px rgba(60, 64, 67, 0.3), 0 1px 3px 1px rgba(60, 64, 67, 0.15);\n",
              "    fill: var(--button-hover-fill-color);\n",
              "  }\n",
              "\n",
              "  .colab-df-quickchart-complete:disabled,\n",
              "  .colab-df-quickchart-complete:disabled:hover {\n",
              "    background-color: var(--disabled-bg-color);\n",
              "    fill: var(--disabled-fill-color);\n",
              "    box-shadow: none;\n",
              "  }\n",
              "\n",
              "  .colab-df-spinner {\n",
              "    border: 2px solid var(--fill-color);\n",
              "    border-color: transparent;\n",
              "    border-bottom-color: var(--fill-color);\n",
              "    animation:\n",
              "      spin 1s steps(1) infinite;\n",
              "  }\n",
              "\n",
              "  @keyframes spin {\n",
              "    0% {\n",
              "      border-color: transparent;\n",
              "      border-bottom-color: var(--fill-color);\n",
              "      border-left-color: var(--fill-color);\n",
              "    }\n",
              "    20% {\n",
              "      border-color: transparent;\n",
              "      border-left-color: var(--fill-color);\n",
              "      border-top-color: var(--fill-color);\n",
              "    }\n",
              "    30% {\n",
              "      border-color: transparent;\n",
              "      border-left-color: var(--fill-color);\n",
              "      border-top-color: var(--fill-color);\n",
              "      border-right-color: var(--fill-color);\n",
              "    }\n",
              "    40% {\n",
              "      border-color: transparent;\n",
              "      border-right-color: var(--fill-color);\n",
              "      border-top-color: var(--fill-color);\n",
              "    }\n",
              "    60% {\n",
              "      border-color: transparent;\n",
              "      border-right-color: var(--fill-color);\n",
              "    }\n",
              "    80% {\n",
              "      border-color: transparent;\n",
              "      border-right-color: var(--fill-color);\n",
              "      border-bottom-color: var(--fill-color);\n",
              "    }\n",
              "    90% {\n",
              "      border-color: transparent;\n",
              "      border-bottom-color: var(--fill-color);\n",
              "    }\n",
              "  }\n",
              "</style>\n",
              "\n",
              "      <script>\n",
              "        async function quickchart(key) {\n",
              "          const quickchartButtonEl =\n",
              "            document.querySelector('#' + key + ' button');\n",
              "          quickchartButtonEl.disabled = true;  // To prevent multiple clicks.\n",
              "          quickchartButtonEl.classList.add('colab-df-spinner');\n",
              "          try {\n",
              "            const charts = await google.colab.kernel.invokeFunction(\n",
              "                'suggestCharts', [key], {});\n",
              "          } catch (error) {\n",
              "            console.error('Error during call to suggestCharts:', error);\n",
              "          }\n",
              "          quickchartButtonEl.classList.remove('colab-df-spinner');\n",
              "          quickchartButtonEl.classList.add('colab-df-quickchart-complete');\n",
              "        }\n",
              "        (() => {\n",
              "          let quickchartButtonEl =\n",
              "            document.querySelector('#df-f5ca9c1c-2897-4596-af17-99242d4911fd button');\n",
              "          quickchartButtonEl.style.display =\n",
              "            google.colab.kernel.accessAllowed ? 'block' : 'none';\n",
              "        })();\n",
              "      </script>\n",
              "    </div>\n",
              "\n",
              "    </div>\n",
              "  </div>\n"
            ],
            "application/vnd.google.colaboratory.intrinsic+json": {
              "type": "dataframe",
              "repr_error": "Out of range float values are not JSON compliant: nan"
            }
          },
          "metadata": {},
          "execution_count": 37
        }
      ]
    },
    {
      "cell_type": "code",
      "source": [
        "# QTD de registros\n",
        "print(f\"{empresas.count():,.2f}\")"
      ],
      "metadata": {
        "colab": {
          "base_uri": "https://localhost:8080/"
        },
        "id": "sAxVBkjPY7Gv",
        "outputId": "aadfd135-42a4-4cec-a552-691b326b6466"
      },
      "execution_count": 40,
      "outputs": [
        {
          "output_type": "stream",
          "name": "stdout",
          "text": [
            "4,585,679.00\n"
          ]
        }
      ]
    },
    {
      "cell_type": "code",
      "source": [
        "empresas.show(truncate=False)"
      ],
      "metadata": {
        "colab": {
          "base_uri": "https://localhost:8080/"
        },
        "id": "4gwrM-tyZOfu",
        "outputId": "2fae7dbb-2e2c-4a72-d0dd-03259c5ae0dd"
      },
      "execution_count": 41,
      "outputs": [
        {
          "output_type": "stream",
          "name": "stdout",
          "text": [
            "+-----+--------------------------------------------------------------------------------------------+-----------------+------------------------+--------------+-----+---------------+\n",
            "|cnpj |razao_social                                                                                |natureza_juridica|qualificacao_responsavel|capital_social|porte|ente_federativo|\n",
            "+-----+--------------------------------------------------------------------------------------------+-----------------+------------------------+--------------+-----+---------------+\n",
            "|306  |FRANCAMAR REFRIGERACAO TECNICA S/C LTDA                                                     |2240             |49                      |0,00          |1    |NULL           |\n",
            "|1355 |BRASILEIRO & OLIVEIRA LTDA                                                                  |2062             |49                      |0,00          |5    |NULL           |\n",
            "|4820 |REGISTRO DE IMOVEIS, TABELIONATO 1 DE NOTAS E TABELIONATO E REGISTRO DE CONSTRATOS MARITIMOS|3034             |32                      |0,00          |5    |NULL           |\n",
            "|5347 |ROSELY APARECIDA MONTEIRO CALTABIANO FREITAS                                                |2135             |50                      |0,00          |5    |NULL           |\n",
            "|6846 |BADU E FILHOS TECIDOS LTDA                                                                  |2062             |49                      |4000,00       |1    |NULL           |\n",
            "|8416 |ELETRICA RUBI LTDA                                                                          |2062             |49                      |0,00          |5    |NULL           |\n",
            "|8992 |SHIROMA VEICULOS LTDA.                                                                      |2062             |49                      |0,00          |5    |NULL           |\n",
            "|9091 |CONTATOS BAR E LANCHONETE LTDA                                                              |2062             |49                      |0,00          |5    |NULL           |\n",
            "|9614 |ANTONIA APARECIDA DE SOUZA ULIANA                                                           |2135             |50                      |0,00          |5    |NULL           |\n",
            "|9896 |DORACY CORAT DA COSTA                                                                       |2135             |50                      |0,00          |5    |NULL           |\n",
            "|12112|LANCHONETE RIO VERMELHO LTDA                                                                |2062             |49                      |0,00          |5    |NULL           |\n",
            "|12605|VALMAR JACAREI COMERCIO DE PRODUTOS ALIMENTIC LTDA                                          |2062             |49                      |0,00          |5    |NULL           |\n",
            "|13407|ROSANA CRISTINA DUARTE RODRIGUES SERRALHERIA                                                |2135             |50                      |0,00          |5    |NULL           |\n",
            "|13408|CELIO RODRIGUES DE MORAES DEPOSITO DE BANANAS                                               |2135             |50                      |0,00          |5    |NULL           |\n",
            "|13721|MAQFRAN COMERCIO DE PECAS LTDA                                                              |2062             |49                      |0,00          |1    |NULL           |\n",
            "|21181|MOURA & SILVA MERCEARIA LIMITADA                                                            |2062             |49                      |0,00          |5    |NULL           |\n",
            "|21858|PAMARATI COMERCIO DE RACOES LTDA                                                            |2135             |50                      |0,00          |1    |NULL           |\n",
            "|22277|INACIO RODRIGUES DO NASCIMENTO                                                              |2135             |50                      |0,00          |5    |NULL           |\n",
            "|24205|SUELY LEME MARI ANI 25086572800                                                             |2135             |50                      |1000,00       |1    |NULL           |\n",
            "|26805|SUELI BATISTA DA COSTA SILVA                                                                |2135             |50                      |0,00          |5    |NULL           |\n",
            "+-----+--------------------------------------------------------------------------------------------+-----------------+------------------------+--------------+-----+---------------+\n",
            "only showing top 20 rows\n",
            "\n"
          ]
        }
      ]
    },
    {
      "cell_type": "code",
      "source": [
        "empresas.show(5, False)"
      ],
      "metadata": {
        "colab": {
          "base_uri": "https://localhost:8080/"
        },
        "id": "tAiCBngiZ48H",
        "outputId": "2f2c0e1d-34b6-4160-91f1-511ee8e66f7b"
      },
      "execution_count": 43,
      "outputs": [
        {
          "output_type": "stream",
          "name": "stdout",
          "text": [
            "+----+--------------------------------------------------------------------------------------------+-----------------+------------------------+--------------+-----+---------------+\n",
            "|cnpj|razao_social                                                                                |natureza_juridica|qualificacao_responsavel|capital_social|porte|ente_federativo|\n",
            "+----+--------------------------------------------------------------------------------------------+-----------------+------------------------+--------------+-----+---------------+\n",
            "|306 |FRANCAMAR REFRIGERACAO TECNICA S/C LTDA                                                     |2240             |49                      |0,00          |1    |NULL           |\n",
            "|1355|BRASILEIRO & OLIVEIRA LTDA                                                                  |2062             |49                      |0,00          |5    |NULL           |\n",
            "|4820|REGISTRO DE IMOVEIS, TABELIONATO 1 DE NOTAS E TABELIONATO E REGISTRO DE CONSTRATOS MARITIMOS|3034             |32                      |0,00          |5    |NULL           |\n",
            "|5347|ROSELY APARECIDA MONTEIRO CALTABIANO FREITAS                                                |2135             |50                      |0,00          |5    |NULL           |\n",
            "|6846|BADU E FILHOS TECIDOS LTDA                                                                  |2062             |49                      |4000,00       |1    |NULL           |\n",
            "+----+--------------------------------------------------------------------------------------------+-----------------+------------------------+--------------+-----+---------------+\n",
            "only showing top 5 rows\n",
            "\n"
          ]
        }
      ]
    },
    {
      "cell_type": "code",
      "source": [
        "# Mostre alguns registros que tenha a palavra \"hospital\" em sua razão social:\n",
        "# O 'like' diferencia maiúsculas de minúsculas\n",
        "# O 'ilike' não diferencia\n",
        "\n",
        "empresas.where(\"razao_social ilike '%hospital%'\").show(15, False)"
      ],
      "metadata": {
        "colab": {
          "base_uri": "https://localhost:8080/"
        },
        "id": "_tZS1OcnaF5O",
        "outputId": "29dfda65-4709-40d9-f543-cedcc0dda1fa"
      },
      "execution_count": 46,
      "outputs": [
        {
          "output_type": "stream",
          "name": "stdout",
          "text": [
            "+--------+-------------------------------------------------------------------------+-----------------+------------------------+--------------+-----+---------------+\n",
            "|cnpj    |razao_social                                                             |natureza_juridica|qualificacao_responsavel|capital_social|porte|ente_federativo|\n",
            "+--------+-------------------------------------------------------------------------+-----------------+------------------------+--------------+-----+---------------+\n",
            "|1756451 |AUTOMED DIST DE PRODUTOS AUTOMOTIVOS E HOSPITALARES LTDA                 |2062             |49                      |0,00          |1    |NULL           |\n",
            "|2616076 |SERVICO MEDICO HOSPITALAR DE TAGUATINGA LTDA                             |2062             |49                      |0,00          |1    |NULL           |\n",
            "|5082994 |LEBEC MEDICAL COMERCIO E SERVICOS DE SISTEMAS HOSPITALARES LTDA          |2062             |49                      |80000,00      |1    |NULL           |\n",
            "|5791196 |VEDOMED COMERCIO MEDICO HOSPITALAR LTDA                                  |2062             |49                      |0,00          |5    |NULL           |\n",
            "|7847837 |CIENTIFICA MEDICA HOSPITALAR LTDA                                        |2062             |49                      |4000000,00    |5    |NULL           |\n",
            "|8746690 |JMJB DIAGNOSTICOS E SERVICOS HOSPITALARES LTDA                           |2054             |10                      |927840,00     |5    |NULL           |\n",
            "|8992012 |HOSPITAL DE CLINICAS E MATERNIDADE DA ZONA OESTE LTDA                    |2240             |49                      |50000,00      |1    |NULL           |\n",
            "|10264741|SARE-ASSOCIACAO EVANGELICA DE CAPELANIA HOSPITALAR                       |3999             |16                      |0,00          |5    |NULL           |\n",
            "|11340967|ECHO SPINE PRODUTOS HOSPITALARES EIRELI                                  |2305             |65                      |100000,00     |1    |NULL           |\n",
            "|16586898|G C MEDIC COMERCIO E SERVICO DE PRODUTOS HOSPITALARES EIRELI             |2305             |65                      |500000,00     |1    |NULL           |\n",
            "|28767561|LK MEDICAL COMERCIO DE EQUIPAMENTOS HOSPITALARES -  EIRELI               |2305             |65                      |100000,00     |3    |NULL           |\n",
            "|29128075|ACR PRESTACAO DE SERVICOS HOSPITALARES LTDA                              |2062             |49                      |5000,00       |5    |NULL           |\n",
            "|30695382|ATM SERVICOS MEDICOS ASSESSORIA E EMPREENDIMENTOS HOSPITALARES LTDA - SCP|2127             |5                       |11000,00      |5    |NULL           |\n",
            "|41705105|EL HAJE DISTRIBUIDORA DE MATERIAIS MEDICO HOSPITALARES LTDA              |2062             |49                      |100000,00     |1    |NULL           |\n",
            "|273999  |GUIMARAES DISTRIBUIDORA HOSPITALAR LTDA                                  |2062             |49                      |0,00          |5    |NULL           |\n",
            "+--------+-------------------------------------------------------------------------+-----------------+------------------------+--------------+-----+---------------+\n",
            "only showing top 15 rows\n",
            "\n"
          ]
        }
      ]
    },
    {
      "cell_type": "code",
      "source": [
        "# Renomeando colunas:\n",
        "empresas.withColumnsRenamed({\n",
        "    \"natureza_juridica\": \"natureza\",\n",
        "    \"qualificacao_responsavel\": \"responsavel\",\n",
        "    \"capital_social\": \"capital\",\n",
        "    \"ente_federativo\": \"ente\"\n",
        "}).show()"
      ],
      "metadata": {
        "colab": {
          "base_uri": "https://localhost:8080/"
        },
        "id": "yhzUbS0Qa8VP",
        "outputId": "8c744ef6-8a93-4f87-ca8f-aecfc9483342"
      },
      "execution_count": 47,
      "outputs": [
        {
          "output_type": "stream",
          "name": "stdout",
          "text": [
            "+-----+--------------------+--------+-----------+-------+-----+----+\n",
            "| cnpj|        razao_social|natureza|responsavel|capital|porte|ente|\n",
            "+-----+--------------------+--------+-----------+-------+-----+----+\n",
            "|  306|FRANCAMAR REFRIGE...|    2240|         49|   0,00|    1|NULL|\n",
            "| 1355|BRASILEIRO & OLIV...|    2062|         49|   0,00|    5|NULL|\n",
            "| 4820|REGISTRO DE IMOVE...|    3034|         32|   0,00|    5|NULL|\n",
            "| 5347|ROSELY APARECIDA ...|    2135|         50|   0,00|    5|NULL|\n",
            "| 6846|BADU E FILHOS TEC...|    2062|         49|4000,00|    1|NULL|\n",
            "| 8416|  ELETRICA RUBI LTDA|    2062|         49|   0,00|    5|NULL|\n",
            "| 8992|SHIROMA VEICULOS ...|    2062|         49|   0,00|    5|NULL|\n",
            "| 9091|CONTATOS BAR E LA...|    2062|         49|   0,00|    5|NULL|\n",
            "| 9614|ANTONIA APARECIDA...|    2135|         50|   0,00|    5|NULL|\n",
            "| 9896|DORACY CORAT DA C...|    2135|         50|   0,00|    5|NULL|\n",
            "|12112|LANCHONETE RIO VE...|    2062|         49|   0,00|    5|NULL|\n",
            "|12605|VALMAR JACAREI CO...|    2062|         49|   0,00|    5|NULL|\n",
            "|13407|ROSANA CRISTINA D...|    2135|         50|   0,00|    5|NULL|\n",
            "|13408|CELIO RODRIGUES D...|    2135|         50|   0,00|    5|NULL|\n",
            "|13721|MAQFRAN COMERCIO ...|    2062|         49|   0,00|    1|NULL|\n",
            "|21181|MOURA & SILVA MER...|    2062|         49|   0,00|    5|NULL|\n",
            "|21858|PAMARATI COMERCIO...|    2135|         50|   0,00|    1|NULL|\n",
            "|22277|INACIO RODRIGUES ...|    2135|         50|   0,00|    5|NULL|\n",
            "|24205|SUELY LEME MARI A...|    2135|         50|1000,00|    1|NULL|\n",
            "|26805|SUELI BATISTA DA ...|    2135|         50|   0,00|    5|NULL|\n",
            "+-----+--------------------+--------+-----------+-------+-----+----+\n",
            "only showing top 20 rows\n",
            "\n"
          ]
        }
      ]
    },
    {
      "cell_type": "code",
      "source": [
        "# Efetivando alteração:\n",
        "\n",
        "empresas = empresas.withColumnsRenamed({\n",
        "    \"natureza_juridica\": \"natureza\",\n",
        "    \"qualificacao_responsavel\": \"responsavel\",\n",
        "    \"capital_social\": \"capital\",\n",
        "    \"ente_federativo\": \"ente\"\n",
        "})"
      ],
      "metadata": {
        "id": "Hm6MtJrnbzNm"
      },
      "execution_count": 48,
      "outputs": []
    },
    {
      "cell_type": "code",
      "source": [
        "empresas.show(5, False)"
      ],
      "metadata": {
        "colab": {
          "base_uri": "https://localhost:8080/"
        },
        "id": "y4TynPAkb3ye",
        "outputId": "fdb00b87-e804-42e8-b8ed-b04b39d8bcd5"
      },
      "execution_count": 49,
      "outputs": [
        {
          "output_type": "stream",
          "name": "stdout",
          "text": [
            "+----+--------------------------------------------------------------------------------------------+--------+-----------+-------+-----+----+\n",
            "|cnpj|razao_social                                                                                |natureza|responsavel|capital|porte|ente|\n",
            "+----+--------------------------------------------------------------------------------------------+--------+-----------+-------+-----+----+\n",
            "|306 |FRANCAMAR REFRIGERACAO TECNICA S/C LTDA                                                     |2240    |49         |0,00   |1    |NULL|\n",
            "|1355|BRASILEIRO & OLIVEIRA LTDA                                                                  |2062    |49         |0,00   |5    |NULL|\n",
            "|4820|REGISTRO DE IMOVEIS, TABELIONATO 1 DE NOTAS E TABELIONATO E REGISTRO DE CONSTRATOS MARITIMOS|3034    |32         |0,00   |5    |NULL|\n",
            "|5347|ROSELY APARECIDA MONTEIRO CALTABIANO FREITAS                                                |2135    |50         |0,00   |5    |NULL|\n",
            "|6846|BADU E FILHOS TECIDOS LTDA                                                                  |2062    |49         |4000,00|1    |NULL|\n",
            "+----+--------------------------------------------------------------------------------------------+--------+-----------+-------+-----+----+\n",
            "only showing top 5 rows\n",
            "\n"
          ]
        }
      ]
    },
    {
      "cell_type": "code",
      "source": [
        "# Antes de converter a coluna 'capital' teremos que substituir a ',' por '.':\n",
        "# Caso contrário o pyspark não consegue converter a coluna... ela ficará nula.\n",
        "\n",
        "empresas.withColumn(\"capital\",\n",
        "                    f.regexp_replace(\"capital\", \",\", \".\",)).show()"
      ],
      "metadata": {
        "colab": {
          "base_uri": "https://localhost:8080/"
        },
        "id": "2-EAVl4QchT3",
        "outputId": "76c24e06-b4f2-488b-9443-1151a6f3955e"
      },
      "execution_count": 53,
      "outputs": [
        {
          "output_type": "stream",
          "name": "stdout",
          "text": [
            "+-----+--------------------+--------+-----------+-------+-----+----+\n",
            "| cnpj|        razao_social|natureza|responsavel|capital|porte|ente|\n",
            "+-----+--------------------+--------+-----------+-------+-----+----+\n",
            "|  306|FRANCAMAR REFRIGE...|    2240|         49|   0.00|    1|NULL|\n",
            "| 1355|BRASILEIRO & OLIV...|    2062|         49|   0.00|    5|NULL|\n",
            "| 4820|REGISTRO DE IMOVE...|    3034|         32|   0.00|    5|NULL|\n",
            "| 5347|ROSELY APARECIDA ...|    2135|         50|   0.00|    5|NULL|\n",
            "| 6846|BADU E FILHOS TEC...|    2062|         49|4000.00|    1|NULL|\n",
            "| 8416|  ELETRICA RUBI LTDA|    2062|         49|   0.00|    5|NULL|\n",
            "| 8992|SHIROMA VEICULOS ...|    2062|         49|   0.00|    5|NULL|\n",
            "| 9091|CONTATOS BAR E LA...|    2062|         49|   0.00|    5|NULL|\n",
            "| 9614|ANTONIA APARECIDA...|    2135|         50|   0.00|    5|NULL|\n",
            "| 9896|DORACY CORAT DA C...|    2135|         50|   0.00|    5|NULL|\n",
            "|12112|LANCHONETE RIO VE...|    2062|         49|   0.00|    5|NULL|\n",
            "|12605|VALMAR JACAREI CO...|    2062|         49|   0.00|    5|NULL|\n",
            "|13407|ROSANA CRISTINA D...|    2135|         50|   0.00|    5|NULL|\n",
            "|13408|CELIO RODRIGUES D...|    2135|         50|   0.00|    5|NULL|\n",
            "|13721|MAQFRAN COMERCIO ...|    2062|         49|   0.00|    1|NULL|\n",
            "|21181|MOURA & SILVA MER...|    2062|         49|   0.00|    5|NULL|\n",
            "|21858|PAMARATI COMERCIO...|    2135|         50|   0.00|    1|NULL|\n",
            "|22277|INACIO RODRIGUES ...|    2135|         50|   0.00|    5|NULL|\n",
            "|24205|SUELY LEME MARI A...|    2135|         50|1000.00|    1|NULL|\n",
            "|26805|SUELI BATISTA DA ...|    2135|         50|   0.00|    5|NULL|\n",
            "+-----+--------------------+--------+-----------+-------+-----+----+\n",
            "only showing top 20 rows\n",
            "\n"
          ]
        }
      ]
    },
    {
      "cell_type": "code",
      "source": [
        "empresas = empresas.withColumn(\"capital\",\n",
        "                    f.regexp_replace(\"capital\", \",\", \".\",))"
      ],
      "metadata": {
        "id": "84aVepg3dR_e"
      },
      "execution_count": 54,
      "outputs": []
    },
    {
      "cell_type": "code",
      "source": [
        "empresas.show()"
      ],
      "metadata": {
        "colab": {
          "base_uri": "https://localhost:8080/"
        },
        "id": "FVWG1Pu6eh3-",
        "outputId": "c614581b-cc82-4b68-cb58-6f3001be5047"
      },
      "execution_count": 55,
      "outputs": [
        {
          "output_type": "stream",
          "name": "stdout",
          "text": [
            "+-----+--------------------+--------+-----------+-------+-----+----+\n",
            "| cnpj|        razao_social|natureza|responsavel|capital|porte|ente|\n",
            "+-----+--------------------+--------+-----------+-------+-----+----+\n",
            "|  306|FRANCAMAR REFRIGE...|    2240|         49|   0.00|    1|NULL|\n",
            "| 1355|BRASILEIRO & OLIV...|    2062|         49|   0.00|    5|NULL|\n",
            "| 4820|REGISTRO DE IMOVE...|    3034|         32|   0.00|    5|NULL|\n",
            "| 5347|ROSELY APARECIDA ...|    2135|         50|   0.00|    5|NULL|\n",
            "| 6846|BADU E FILHOS TEC...|    2062|         49|4000.00|    1|NULL|\n",
            "| 8416|  ELETRICA RUBI LTDA|    2062|         49|   0.00|    5|NULL|\n",
            "| 8992|SHIROMA VEICULOS ...|    2062|         49|   0.00|    5|NULL|\n",
            "| 9091|CONTATOS BAR E LA...|    2062|         49|   0.00|    5|NULL|\n",
            "| 9614|ANTONIA APARECIDA...|    2135|         50|   0.00|    5|NULL|\n",
            "| 9896|DORACY CORAT DA C...|    2135|         50|   0.00|    5|NULL|\n",
            "|12112|LANCHONETE RIO VE...|    2062|         49|   0.00|    5|NULL|\n",
            "|12605|VALMAR JACAREI CO...|    2062|         49|   0.00|    5|NULL|\n",
            "|13407|ROSANA CRISTINA D...|    2135|         50|   0.00|    5|NULL|\n",
            "|13408|CELIO RODRIGUES D...|    2135|         50|   0.00|    5|NULL|\n",
            "|13721|MAQFRAN COMERCIO ...|    2062|         49|   0.00|    1|NULL|\n",
            "|21181|MOURA & SILVA MER...|    2062|         49|   0.00|    5|NULL|\n",
            "|21858|PAMARATI COMERCIO...|    2135|         50|   0.00|    1|NULL|\n",
            "|22277|INACIO RODRIGUES ...|    2135|         50|   0.00|    5|NULL|\n",
            "|24205|SUELY LEME MARI A...|    2135|         50|1000.00|    1|NULL|\n",
            "|26805|SUELI BATISTA DA ...|    2135|         50|   0.00|    5|NULL|\n",
            "+-----+--------------------+--------+-----------+-------+-----+----+\n",
            "only showing top 20 rows\n",
            "\n"
          ]
        }
      ]
    },
    {
      "cell_type": "code",
      "source": [
        "empresas.printSchema()"
      ],
      "metadata": {
        "colab": {
          "base_uri": "https://localhost:8080/"
        },
        "id": "MUjosGPZekSu",
        "outputId": "598a82f5-c418-438e-a2f1-a3e3f9354084"
      },
      "execution_count": 56,
      "outputs": [
        {
          "output_type": "stream",
          "name": "stdout",
          "text": [
            "root\n",
            " |-- cnpj: integer (nullable = true)\n",
            " |-- razao_social: string (nullable = true)\n",
            " |-- natureza: integer (nullable = true)\n",
            " |-- responsavel: integer (nullable = true)\n",
            " |-- capital: string (nullable = true)\n",
            " |-- porte: integer (nullable = true)\n",
            " |-- ente: string (nullable = true)\n",
            "\n"
          ]
        }
      ]
    },
    {
      "cell_type": "code",
      "source": [
        "# Convertendo coluna de string para numérica\n",
        "empresas.withColumn(\"capital\",\n",
        "                    empresas.capital.cast(DoubleType())).show()"
      ],
      "metadata": {
        "colab": {
          "base_uri": "https://localhost:8080/"
        },
        "id": "NBB0J3gpeqLN",
        "outputId": "67f26244-1a6c-4260-acda-2a5ad33eaa9f"
      },
      "execution_count": 58,
      "outputs": [
        {
          "output_type": "stream",
          "name": "stdout",
          "text": [
            "+-----+--------------------+--------+-----------+-------+-----+----+\n",
            "| cnpj|        razao_social|natureza|responsavel|capital|porte|ente|\n",
            "+-----+--------------------+--------+-----------+-------+-----+----+\n",
            "|  306|FRANCAMAR REFRIGE...|    2240|         49|    0.0|    1|NULL|\n",
            "| 1355|BRASILEIRO & OLIV...|    2062|         49|    0.0|    5|NULL|\n",
            "| 4820|REGISTRO DE IMOVE...|    3034|         32|    0.0|    5|NULL|\n",
            "| 5347|ROSELY APARECIDA ...|    2135|         50|    0.0|    5|NULL|\n",
            "| 6846|BADU E FILHOS TEC...|    2062|         49| 4000.0|    1|NULL|\n",
            "| 8416|  ELETRICA RUBI LTDA|    2062|         49|    0.0|    5|NULL|\n",
            "| 8992|SHIROMA VEICULOS ...|    2062|         49|    0.0|    5|NULL|\n",
            "| 9091|CONTATOS BAR E LA...|    2062|         49|    0.0|    5|NULL|\n",
            "| 9614|ANTONIA APARECIDA...|    2135|         50|    0.0|    5|NULL|\n",
            "| 9896|DORACY CORAT DA C...|    2135|         50|    0.0|    5|NULL|\n",
            "|12112|LANCHONETE RIO VE...|    2062|         49|    0.0|    5|NULL|\n",
            "|12605|VALMAR JACAREI CO...|    2062|         49|    0.0|    5|NULL|\n",
            "|13407|ROSANA CRISTINA D...|    2135|         50|    0.0|    5|NULL|\n",
            "|13408|CELIO RODRIGUES D...|    2135|         50|    0.0|    5|NULL|\n",
            "|13721|MAQFRAN COMERCIO ...|    2062|         49|    0.0|    1|NULL|\n",
            "|21181|MOURA & SILVA MER...|    2062|         49|    0.0|    5|NULL|\n",
            "|21858|PAMARATI COMERCIO...|    2135|         50|    0.0|    1|NULL|\n",
            "|22277|INACIO RODRIGUES ...|    2135|         50|    0.0|    5|NULL|\n",
            "|24205|SUELY LEME MARI A...|    2135|         50| 1000.0|    1|NULL|\n",
            "|26805|SUELI BATISTA DA ...|    2135|         50|    0.0|    5|NULL|\n",
            "+-----+--------------------+--------+-----------+-------+-----+----+\n",
            "only showing top 20 rows\n",
            "\n"
          ]
        }
      ]
    },
    {
      "cell_type": "code",
      "source": [
        "empresas = empresas.withColumn(\"capital\",\n",
        "                    empresas.capital.cast(DoubleType()))"
      ],
      "metadata": {
        "id": "SnwbzqIlfLNu"
      },
      "execution_count": 59,
      "outputs": []
    },
    {
      "cell_type": "code",
      "source": [
        "empresas.printSchema()"
      ],
      "metadata": {
        "colab": {
          "base_uri": "https://localhost:8080/"
        },
        "id": "TO8jy8GHfdi2",
        "outputId": "98ad73d9-29d5-434f-dbd0-1e4606ef4e54"
      },
      "execution_count": 60,
      "outputs": [
        {
          "output_type": "stream",
          "name": "stdout",
          "text": [
            "root\n",
            " |-- cnpj: integer (nullable = true)\n",
            " |-- razao_social: string (nullable = true)\n",
            " |-- natureza: integer (nullable = true)\n",
            " |-- responsavel: integer (nullable = true)\n",
            " |-- capital: double (nullable = true)\n",
            " |-- porte: integer (nullable = true)\n",
            " |-- ente: string (nullable = true)\n",
            "\n"
          ]
        }
      ]
    },
    {
      "cell_type": "code",
      "source": [
        "empresas.show(3)"
      ],
      "metadata": {
        "colab": {
          "base_uri": "https://localhost:8080/"
        },
        "id": "QFUewmzbffn9",
        "outputId": "a5f61030-71d9-44dd-f9bb-db196f96e4fb"
      },
      "execution_count": 61,
      "outputs": [
        {
          "output_type": "stream",
          "name": "stdout",
          "text": [
            "+----+--------------------+--------+-----------+-------+-----+----+\n",
            "|cnpj|        razao_social|natureza|responsavel|capital|porte|ente|\n",
            "+----+--------------------+--------+-----------+-------+-----+----+\n",
            "| 306|FRANCAMAR REFRIGE...|    2240|         49|    0.0|    1|NULL|\n",
            "|1355|BRASILEIRO & OLIV...|    2062|         49|    0.0|    5|NULL|\n",
            "|4820|REGISTRO DE IMOVE...|    3034|         32|    0.0|    5|NULL|\n",
            "+----+--------------------+--------+-----------+-------+-----+----+\n",
            "only showing top 3 rows\n",
            "\n"
          ]
        }
      ]
    },
    {
      "cell_type": "code",
      "source": [
        "empresas.where(\"capital is null\").show()"
      ],
      "metadata": {
        "colab": {
          "base_uri": "https://localhost:8080/"
        },
        "id": "vrFSe2xdfxkt",
        "outputId": "c0975692-3658-4b21-fffd-b45257476049"
      },
      "execution_count": 62,
      "outputs": [
        {
          "output_type": "stream",
          "name": "stdout",
          "text": [
            "+----+------------+--------+-----------+-------+-----+----+\n",
            "|cnpj|razao_social|natureza|responsavel|capital|porte|ente|\n",
            "+----+------------+--------+-----------+-------+-----+----+\n",
            "+----+------------+--------+-----------+-------+-----+----+\n",
            "\n"
          ]
        }
      ]
    },
    {
      "cell_type": "code",
      "source": [
        "empresas.where(\"ente is not null\").show(20, False)"
      ],
      "metadata": {
        "colab": {
          "base_uri": "https://localhost:8080/"
        },
        "id": "gBMKi3vVf209",
        "outputId": "bdb789fd-22f9-40e7-da00-1eca3721cbea"
      },
      "execution_count": 63,
      "outputs": [
        {
          "output_type": "stream",
          "name": "stdout",
          "text": [
            "+--------+----------------------------------------------------------------------------------------------+--------+-----------+-------+-----+---------------------------+\n",
            "|cnpj    |razao_social                                                                                  |natureza|responsavel|capital|porte|ente                       |\n",
            "+--------+----------------------------------------------------------------------------------------------+--------+-----------+-------+-----+---------------------------+\n",
            "|784274  |SECRETARIA MUNICIPAL DE SAUDE                                                                 |1031    |5          |0.0    |5    |PARATINGA - BA             |\n",
            "|2030715 |AGENCIA NACIONAL DE TELECOMUNICACOES                                                          |1104    |16         |0.0    |5    |UNIï¿½O                    |\n",
            "|3104818 |AUTARQUIA MUNICIPAL DE ESPORTES E RECREACAO DE OURINHOS                                       |1120    |16         |0.0    |5    |OURINHOS - SP              |\n",
            "|6035005 |INSTITUTO DE PREVIDENCIA DO MUNICIPIO DE CANHOTINHO                                           |1120    |16         |0.0    |5    |CANHOTINHO - PE            |\n",
            "|6110684 |FUNDO MUNICIPAL DA EDUCACAO                                                                   |1333    |5          |0.0    |5    |JURANDA - PR               |\n",
            "|6553523 |PIAUI SECRETARIA DO PLANEJAMENTO SEPLAN                                                       |1023    |5          |0.0    |5    |PIAUI                      |\n",
            "|10471096|FUNDO MUNICIPAL DE SAUDE DE SEBASTIANOPOLIS DO SUL                                            |1333    |5          |0.0    |5    |SEBASTIANOPOLIS DO SUL - SP|\n",
            "|11373944|FUNDO MUNICIPAL DE SAUDE - FMS                                                                |1333    |5          |0.0    |5    |FEIRA DA MATA - BA         |\n",
            "|11429746|FUNDO MUNICIPAL DE SAUDE DE NOVO HORIZONTE                                                    |1333    |5          |0.0    |5    |NOVO HORIZONTE - BA        |\n",
            "|11740122|FUNDO MUNICIPAL DE SAUDE DE CARRASCO BONITO - FMSCB                                           |1333    |5          |0.0    |5    |CARRASCO BONITO - TO       |\n",
            "|11902441|FUNDO MUNICIPAL DE SAUDE                                                                      |1333    |5          |0.0    |5    |GENTIO DO OURO - BA        |\n",
            "|12157728|FUNDO MUNICIPAL DE SAUDE DE VILA VELHA - F M S                                                |1333    |5          |0.0    |5    |VILA VELHA - ES            |\n",
            "|13474300|FUNDO MUNICIPAL DE ASSISTENCIA SOCIAL                                                         |1333    |5          |0.0    |5    |ANDORINHA - BA             |\n",
            "|13652375|CAMARA MUNICIPAL DE SANTA CRUZ CABRALIA                                                       |1066    |5          |0.0    |5    |SANTA CRUZ CABRALIA - BA   |\n",
            "|15086405|COMISSAO MUNICIPAL DE DEFESA CIVIL - COMDEC                                                   |1210    |16         |0.0    |5    |FRANCISCO ALVES - PR       |\n",
            "|18144198|FUNDO MUNICIPAL DE RECURSOS DESTINADOS AO ATENDIMENTO DOS DIREITOS DA CRIANCA E DO ADOLESCENTE|1333    |5          |0.0    |5    |SARAPUI - SP               |\n",
            "|18688946|FUNDO MUNICIPAL DE DESENVOLVIMENTO AMBIENTAL DE UBA                                           |1031    |5          |0.0    |5    |UBA - MG                   |\n",
            "|18741825|FUNDO MUNICIPAL DO IDOSO DE SERAFINA CORREA                                                   |1333    |5          |0.0    |5    |SERAFINA CORREA - RS       |\n",
            "|19204815|ASSOCIACAO DOS MORADORES DO BAIRRO LIMBERGER                                                  |1210    |16         |0.0    |5    |ARROIO DO TIGRE - RS       |\n",
            "|19412696|FUNDO MUNICIPAL DA  CULTURA                                                                   |1333    |5          |0.0    |5    |CARMO DO RIO CLARO - MG    |\n",
            "+--------+----------------------------------------------------------------------------------------------+--------+-----------+-------+-----+---------------------------+\n",
            "only showing top 20 rows\n",
            "\n"
          ]
        }
      ]
    },
    {
      "cell_type": "code",
      "source": [
        "empresas.where(\"ente ilike'%sao jose do rio preto%'\").show(50, False)"
      ],
      "metadata": {
        "colab": {
          "base_uri": "https://localhost:8080/"
        },
        "id": "9p030naEgI7-",
        "outputId": "cfd3d216-8b32-4b26-e43e-6b996bb382ca"
      },
      "execution_count": 65,
      "outputs": [
        {
          "output_type": "stream",
          "name": "stdout",
          "text": [
            "+-------+-------------------------------------------+--------+-----------+-------+-----+--------------------------+\n",
            "|cnpj   |razao_social                               |natureza|responsavel|capital|porte|ente                      |\n",
            "+-------+-------------------------------------------+--------+-----------+-------+-----+--------------------------+\n",
            "|4691691|SERVICO MUNICIPAL AUTONOMO DE AGUA E ESGOTO|1120    |16         |0.0    |5    |SAO JOSE DO RIO PRETO - SP|\n",
            "+-------+-------------------------------------------+--------+-----------+-------+-----+--------------------------+\n",
            "\n"
          ]
        }
      ]
    },
    {
      "cell_type": "code",
      "source": [
        "# Empresas com capital etre 50 e 100k\n",
        "empresas.where(\"capital between 50000 and 100000\").show(20, False)"
      ],
      "metadata": {
        "colab": {
          "base_uri": "https://localhost:8080/"
        },
        "id": "VD7nc7IDgekt",
        "outputId": "4f37d9d4-7e57-464f-c905-64c79d543be9"
      },
      "execution_count": 67,
      "outputs": [
        {
          "output_type": "stream",
          "name": "stdout",
          "text": [
            "+-------+--------------------------------------------------------------+--------+-----------+--------+-----+----+\n",
            "|cnpj   |razao_social                                                  |natureza|responsavel|capital |porte|ente|\n",
            "+-------+--------------------------------------------------------------+--------+-----------+--------+-----+----+\n",
            "|116791 |AGNALDO ROCHA VIANA                                           |2135    |50         |60000.0 |1    |NULL|\n",
            "|399680 |MARIANTE COMERCIO DE ALIMENTOS LTDA                           |2062    |49         |50000.0 |5    |NULL|\n",
            "|550169 |FERNANDO SKAF                                                 |2135    |50         |70000.0 |3    |NULL|\n",
            "|616948 |NOVA PRIMUS COMERCIO DE PECAS INDUSTRIAL LTDA                 |2062    |49         |50000.0 |1    |NULL|\n",
            "|655784 |HOB & NOB COM. IMPORT. E EXPORT. LTDA                         |2062    |49         |52000.0 |3    |NULL|\n",
            "|820160 |I B ABRAMOSKI EIRELI                                          |2305    |65         |100000.0|1    |NULL|\n",
            "|860872 |LUSA LOCADORA DE VEICULOS LTDA                                |2062    |49         |100000.0|5    |NULL|\n",
            "|892150 |INSTITUTO EDUCACIONAL FERNANDO MESQUITA DE ARAUJO LTDA        |2062    |49         |60000.0 |1    |NULL|\n",
            "|1006573|HOTEL ACROPOLE LTDA                                           |2062    |49         |75000.0 |3    |NULL|\n",
            "|1036065|JZS COMERCIO E REPRESENTACOES LTDA                            |2062    |49         |100000.0|1    |NULL|\n",
            "|1257318|HOTEL BEGLIOMINI LTDA                                         |2062    |49         |100000.0|1    |NULL|\n",
            "|1374493|S M GOMES DA SILVA                                            |2135    |50         |100000.0|5    |NULL|\n",
            "|1485159|SENTINELA ABATEDOURO DE AVES LTDA                             |2062    |49         |100000.0|5    |NULL|\n",
            "|1697758|J. IRAN DE SOUSA                                              |2135    |50         |80000.0 |1    |NULL|\n",
            "|1784987|LOCARDI COMERCIO E SERVICOS  EIRELI                           |2305    |65         |100000.0|3    |NULL|\n",
            "|1829459|AGROLAR IMOBILIARIA, CORRETORA DE IMOVEIS E INCORPORADORA LTDA|2062    |49         |100000.0|1    |NULL|\n",
            "|1880499|ITALIA HOME INDUSTRIA E COMERCIO DE MARMORES LTDA             |2062    |49         |60000.0 |1    |NULL|\n",
            "|1886938|CENCI COMERCIO DE AUTOPECAS E MANUTENCAO VEICULAR EIRELI      |2305    |65         |80000.0 |3    |NULL|\n",
            "|1900791|JURACY SILVA LISBOA                                           |2135    |50         |70000.0 |5    |NULL|\n",
            "|1960340|QUALIT COMERCIO MANUTENCAO E INSTALACOES EIRELI               |2305    |65         |100000.0|1    |NULL|\n",
            "+-------+--------------------------------------------------------------+--------+-----------+--------+-----+----+\n",
            "only showing top 20 rows\n",
            "\n"
          ]
        }
      ]
    },
    {
      "cell_type": "code",
      "source": [
        "# Normalizando dados nulos\n",
        "# FILLna ele renomeia o dado\n",
        "empresas = empresas.fillna({\n",
        "    \"ente\":\"N/A\",\n",
        "    \"capital\":0\n",
        "})"
      ],
      "metadata": {
        "id": "UcySUt3Ng1cO"
      },
      "execution_count": 73,
      "outputs": []
    },
    {
      "cell_type": "code",
      "source": [
        "empresas.show(3)"
      ],
      "metadata": {
        "colab": {
          "base_uri": "https://localhost:8080/"
        },
        "id": "Bsoy_3Ieh5G9",
        "outputId": "8372bed7-c705-4da2-edfd-5d7de426e2ad"
      },
      "execution_count": 74,
      "outputs": [
        {
          "output_type": "stream",
          "name": "stdout",
          "text": [
            "+----+--------------------+--------+-----------+-------+-----+----+\n",
            "|cnpj|        razao_social|natureza|responsavel|capital|porte|ente|\n",
            "+----+--------------------+--------+-----------+-------+-----+----+\n",
            "| 306|FRANCAMAR REFRIGE...|    2240|         49|    0.0|    1| N/A|\n",
            "|1355|BRASILEIRO & OLIV...|    2062|         49|    0.0|    5| N/A|\n",
            "|4820|REGISTRO DE IMOVE...|    3034|         32|    0.0|    5| N/A|\n",
            "+----+--------------------+--------+-----------+-------+-----+----+\n",
            "only showing top 3 rows\n",
            "\n"
          ]
        }
      ]
    },
    {
      "cell_type": "code",
      "source": [
        "# Importando dados de estabelecimentos:\n",
        "url = \"/content/drive/MyDrive/BasesPark/estabelecimentos/part*\"\n",
        "estabs = spark.read.csv(\n",
        "    url,\n",
        "    sep=\";\",\n",
        "    inferSchema=True,\n",
        "    header=True,\n",
        "    encoding=\"latin1\"\n",
        ")"
      ],
      "metadata": {
        "id": "sYcnxtjMihO-"
      },
      "execution_count": 76,
      "outputs": []
    },
    {
      "cell_type": "code",
      "source": [
        "estabs.count()"
      ],
      "metadata": {
        "colab": {
          "base_uri": "https://localhost:8080/"
        },
        "id": "hePEsNm0jDc9",
        "outputId": "5a65c5d5-2d11-49c3-f38d-91f1242af437"
      },
      "execution_count": 77,
      "outputs": [
        {
          "output_type": "execute_result",
          "data": {
            "text/plain": [
              "4836219"
            ]
          },
          "metadata": {},
          "execution_count": 77
        }
      ]
    },
    {
      "cell_type": "code",
      "source": [
        "estabs.show()"
      ],
      "metadata": {
        "colab": {
          "base_uri": "https://localhost:8080/"
        },
        "id": "ny6TC-XnjYTO",
        "outputId": "359d584a-793b-491b-f91d-f1bf7994ea51"
      },
      "execution_count": 78,
      "outputs": [
        {
          "output_type": "stream",
          "name": "stdout",
          "text": [
            "+-----------+----------+-------+---------------------------+--------------------+------------------+-----------------------+-------------------------+--------------------------+----+------------------------+---------------------+----------------------+------------------+--------------------+------+-------------------+------------------+--------+---+---------+-----+----------+-----+----------+----------+--------+--------------------+-----------------+-------------------------+\n",
            "|cnpj_basico|cnpj_ordem|cnpj_dv|identificador_matriz_filial|       nome_fantasia|situacao_cadastral|data_situacao_cadastral|motivo_situacao_cadastral|nome_da_cidade_no_exterior|pais|data_de_inicio_atividade|cnae_fiscal_principal|cnae_fiscal_secundaria|tipo_de_logradouro|          logradouro|numero|        complemento|            bairro|     cep| uf|municipio|ddd_1|telefone_1|ddd_2|telefone_2|ddd_do_fax|     fax|  correio_eletronico|situacao_especial|data_da_situacao_especial|\n",
            "+-----------+----------+-------+---------------------------+--------------------+------------------+-----------------------+-------------------------+--------------------------+----+------------------------+---------------------+----------------------+------------------+--------------------+------+-------------------+------------------+--------+---+---------+-----+----------+-----+----------+----------+--------+--------------------+-----------------+-------------------------+\n",
            "|       1879|         1|     96|                          1|      PIRAMIDE M. C.|                 8|               20011029|                        1|                      NULL|NULL|                19940509|              1412602|                  NULL|               RUA|     JOSE FIGLIOLINI|   608|               NULL|         VILA NILO| 2278020| SP|     7107| NULL|      NULL| NULL|      NULL|      NULL|    NULL|                NULL|             NULL|                     NULL|\n",
            "|       2818|         1|     43|                          1|                NULL|                 8|               20081231|                       71|                      NULL|NULL|                19940512|              4671100|                  NULL|               RUA|              BAQUIA|   416|               NULL|VL NOVA MANCHESTER| 3443000| SP|     7107| NULL|      NULL| NULL|      NULL|      NULL|    NULL|                NULL|             NULL|                     NULL|\n",
            "|       3110|         1|      7|                          1|                NULL|                 8|               19971231|                        1|                      NULL|NULL|                19940512|              4789007|                  NULL|               RUA|     LEOCADIA CINTRA|   180|            CONJ 83|             MOOCA| 3112040| SP|     7107| NULL|      NULL| NULL|      NULL|      NULL|    NULL|                NULL|             NULL|                     NULL|\n",
            "|       3733|         1|     80|                          1|                NULL|                 8|               20081231|                       71|                      NULL|NULL|                19940513|              7490101|                  NULL|               RUA|        AFONSO CELSO|  1102|             CASA 1|      VILA MARIANA| 4119061| SP|     7107| NULL|      NULL| NULL|      NULL|      NULL|    NULL|                NULL|             NULL|                     NULL|\n",
            "|       4628|         3|     27|                          2|   EMBROIDERY & GIFT|                 8|               19980429|                        1|                      NULL|NULL|                19950509|              4755501|                  NULL|               RUA|DOUTOR GABRIEL NI...|   177|               NULL|       RUDGE RAMOS| 9632040| SP|     7075| NULL|      NULL| NULL|      NULL|      NULL|    NULL|                NULL|             NULL|                     NULL|\n",
            "|       4628|         4|      8|                          2|                NULL|                 8|               20040719|                        1|                      NULL|NULL|                19990715|              4755502|                  NULL|           AVENIDA|   SENADOR VERGUEIRO|  4556|               NULL|       RUDGE RAMOS| 9750900| SP|     7075| NULL|      NULL| NULL|      NULL|      NULL|    NULL|                NULL|             NULL|                     NULL|\n",
            "|       4628|         2|     46|                          2|   EMBROIDERY & GIFT|                 8|               19960802|                        1|                      NULL|NULL|                19950406|              4755501|                  NULL|           AVENIDA|             KENNEDY|   700|P2PULMANN QUIO P67L|    JD TRES MARIAS| 9725000| SP|     7075| NULL|      NULL| NULL|      NULL|      NULL|    NULL|                NULL|             NULL|                     NULL|\n",
            "|       4628|         1|     65|                          1|                NULL|                 2|               20051103|                        0|                      NULL|NULL|                19940516|              4930202|  7739099,4930201,5...|               RUA|  TIETE (VL VIVALDI)|   189|               NULL|       RUDGE RAMOS| 9615000| SP|     7075|   11|  43625402|   11|  43622689|        11|43625402|SHIRLEY_LUPOS@HOT...|             NULL|                     NULL|\n",
            "|      10804|         1|     71|                          1|              KOLVOX|                 8|               20170613|                        1|                      NULL|NULL|                19940530|              1412601|               1412603|           AVENIDA|          NORDESTINA|   917|           SALA  02|    VILA AMERICANA| 8021000| SP|     7107|   11|  20580186| NULL|      NULL|      NULL|    NULL|NCCONTABILIDADE@T...|             NULL|                     NULL|\n",
            "|      11448|         1|      0|                          1|              PROLAV|                 8|               20081231|                       71|                      NULL|NULL|                19940530|              4649408|                  NULL|               RUA|          PITAGUARAS|    05|               NULL|           POMPEIA| 5027100| SP|     7107| NULL|      NULL| NULL|      NULL|      NULL|    NULL|                NULL|             NULL|                     NULL|\n",
            "|      13566|         1|     58|                          1|                NULL|                 8|               20000914|                        1|                      NULL|NULL|                19940607|              4120400|               4299501|               RUA|       CAETANO NIGRO|   480|               NULL|       VL HARMONIA|14802450| SP|     6163| NULL|      NULL| NULL|      NULL|      NULL|    NULL|                NULL|             NULL|                     NULL|\n",
            "|      15324|         1|      1|                          1|MINI SACOLAO VILA...|                 8|               20080214|                       54|                      NULL|NULL|                19940610|              4729699|                  NULL|               RUA|      JAN DE CAPELLI|   238|                240|        PQ BRISTOL| 4193070| SP|     7107| NULL|      NULL| NULL|      NULL|      NULL|    NULL|                NULL|             NULL|                     NULL|\n",
            "|      17853|         1|     36|                          1|J Z B COMERCIO DE...|                 8|               20071003|                       54|                      NULL|NULL|                19940615|              2051700|               2052500|           ESTRADA|MUNIC.ALTAIR A GU...|    SN|              KM 04|        ZONA RURAL|15430000| SP|     6117| NULL|      NULL| NULL|      NULL|      NULL|    NULL|                NULL|             NULL|                     NULL|\n",
            "|      18103|         1|     89|                          1|                NULL|                 8|               20081231|                       71|                      NULL|NULL|                19940616|              4723700|                  NULL|           AVENIDA|    FREDERICO OZANAN|   946|               NULL|      VILA SAMPAIO|17205000| SP|     6607| NULL|      NULL| NULL|      NULL|      NULL|    NULL|                NULL|             NULL|                     NULL|\n",
            "|      22504|         1|      2|                          1|                NULL|                 8|               20151119|                        1|                      NULL|NULL|                19940627|              4761003|  4761001,4761002,4...|               RUA|          SANTA CRUZ|   595|               NULL|            CENTRO|13560680| SP|     7079|  016|   2706821| NULL|      NULL|        16| 2706821|                NULL|             NULL|                     NULL|\n",
            "|      23494|         1|     20|                          1|                LEGO|                 8|               20150209|                       73|                      NULL|NULL|                19940629|              1412601|               1412603|               RUA|  CEL EMIDIO PIEDADE|   154|               NULL|              PARI| 3018010| SP|     7107| NULL|      NULL| NULL|      NULL|      NULL|    NULL|                NULL|             NULL|                     NULL|\n",
            "|      23494|         2|      0|                          2|                NULL|                 8|               20150209|                       73|                      NULL|NULL|                20041201|              4642701|                  NULL|             PRACA|       JULIO PRESTES|29/137|           LOJA P19|    CAMPOS ELISEOS| 1218020| SP|     7107| NULL|      NULL| NULL|      NULL|      NULL|    NULL|                NULL|             NULL|                     NULL|\n",
            "|      24117|         1|      5|                          1|                NULL|                 8|               19850705|                        2|                      NULL|NULL|                19680725|              8888888|                  NULL|           AVENIDA|   ALMIRANTE BARROSO|    63|     SALA 308 PARTE|            CENTRO|20031003| RJ|     6001| NULL|      NULL| NULL|      NULL|      NULL|    NULL|                NULL|             NULL|                     NULL|\n",
            "|      24242|         1|     15|                          1|                NULL|                 8|               20081231|                       71|                      NULL|NULL|                19940630|              4722901|                  NULL|           AVENIDA|        BANDEIRANTES|  3928|               NULL| BRIGADEIRO TOBIAS|18108000| SP|     7145| NULL|      NULL| NULL|      NULL|      NULL|    NULL|                NULL|             NULL|                     NULL|\n",
            "|      24323|         1|     15|                          1|          POSTO XARA|                 8|               20081231|                       71|                      NULL|NULL|                19820114|              4731800|               4732600|           RODOVIA|              BR 050|   S/N|             KM 214|        ZONA RURAL|75795000| GO|     9295| NULL|      NULL| NULL|      NULL|      NULL|    NULL|                NULL|             NULL|                     NULL|\n",
            "+-----------+----------+-------+---------------------------+--------------------+------------------+-----------------------+-------------------------+--------------------------+----+------------------------+---------------------+----------------------+------------------+--------------------+------+-------------------+------------------+--------+---+---------+-----+----------+-----+----------+----------+--------+--------------------+-----------------+-------------------------+\n",
            "only showing top 20 rows\n",
            "\n"
          ]
        }
      ]
    }
  ]
}